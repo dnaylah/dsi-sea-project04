{
 "cells": [
  {
   "cell_type": "markdown",
   "metadata": {
    "focus": false,
    "id": "69b9a648-bcc7-490d-9f9b-ea244d156bd6"
   },
   "source": [
    "# Web Scraping for Indeed.com & Predicting Salaries"
   ]
  },
  {
   "cell_type": "markdown",
   "metadata": {
    "focus": false,
    "id": "34681254-c802-462f-829d-8894d0772d08"
   },
   "source": [
    "In this project, we will practice two major skills: collecting data by scraping a website and then building a binary predictor with Logistic Regression.\n",
    "\n",
    "We are going to collect salary information on data science jobs in a variety of markets. Then using the location, title and summary of the job we will attempt to predict the salary of the job. For job posting sites, this would be extraordinarily useful. While most listings DO NOT come with salary information (as you will see in this exercise), being to able extrapolate or predict the expected salaries from other listings can help guide negotiations.\n",
    "\n",
    "Normally, we could use regression for this task; however, we will convert this problem into classification and use Logistic Regression.\n",
    "\n",
    "- Question: Why would we want this to be a classification problem?\n",
    "- Answer: While more precision may be better, there is a fair amount of natural variance in job salaries - predicting a range be may be useful.\n",
    "\n",
    "Therefore, the first part of the assignment will be focused on scraping Indeed.com. In the second, we'll focus on using listings with salary information to build a model and predict additional salaries."
   ]
  },
  {
   "cell_type": "markdown",
   "metadata": {
    "focus": false,
    "id": "a948d79c-5527-4c0d-ab23-f5d43ce72056"
   },
   "source": [
    "### Scraping job listings from Indeed.com"
   ]
  },
  {
   "cell_type": "markdown",
   "metadata": {
    "focus": true,
    "id": "7203e0c9-e437-4802-a6ad-7dc464f94436"
   },
   "source": [
    "We will be scraping job listings from Indeed.com using BeautifulSoup. Luckily, Indeed.com is a simple text page where we can easily find relevant entries.\n",
    "\n",
    "First, look at the source of an Indeed.com page: (http://www.indeed.com/jobs?q=data+scientist+%2420%2C000&l=New+York&start=10\")\n",
    "\n",
    "Notice, each job listing is underneath a `div` tag with a class name of `result`. We can use BeautifulSoup to extract those. "
   ]
  },
  {
   "cell_type": "markdown",
   "metadata": {
    "focus": false,
    "id": "9732c901-ae26-4160-8376-42e22dd327df"
   },
   "source": [
    "#### Setup a request (using `requests`) to the URL below. Use BeautifulSoup to parse the page and extract all results (HINT: Look for div tags with class name result)\n",
    "\n",
    "The URL here has many query parameters\n",
    "\n",
    "- `q` for the job search\n",
    "- This is followed by \"+20,000\" to return results with salaries (or expected salaries >$20,000)\n",
    "- `l` for a location \n",
    "- `start` for what result number to start on"
   ]
  },
  {
   "cell_type": "code",
   "execution_count": 1,
   "metadata": {
    "collapsed": false,
    "focus": false,
    "id": "e915023e-6b0d-4982-af2a-b1e0355f4927"
   },
   "outputs": [],
   "source": [
    "\n",
    "#URL = \"http://www.indeed.com/jobs?q=data+scientist+%2420%2C000&l=New+York&start=10\""
   ]
  },
  {
   "cell_type": "code",
   "execution_count": 47,
   "metadata": {
    "collapsed": true
   },
   "outputs": [],
   "source": [
    "YOUR_CITY = ''"
   ]
  },
  {
   "cell_type": "code",
   "execution_count": 113,
   "metadata": {
    "collapsed": true,
    "focus": false,
    "id": "2efefc73-064a-482d-b3b5-ddf5508cb4ec"
   },
   "outputs": [],
   "source": [
    "import requests\n",
    "from bs4 import BeautifulSoup\n",
    "import urllib2\n",
    "import json\n",
    "\n",
    "import pandas as pd"
   ]
  },
  {
   "cell_type": "code",
   "execution_count": 46,
   "metadata": {
    "collapsed": false
   },
   "outputs": [],
   "source": [
    "# base = 'https://www.reddit.com'\n",
    "# soup = BeautifulSoup(urllib2.urlopen('https://data.seattle.gov/Public-Safety/Seattle-Real-Time-Fire-911-Calls/kzjm-xkqj').read())\n",
    "# soup\n",
    "\n",
    "# for div in soup.find_all('div', class_='outerContainer'):\n",
    "#     for div2 in soup.find_all('div', class_='innerContainer'):\n",
    "#         for div3 in soup.find_all('div', class_='fullHeight blist-table'):"
   ]
  },
  {
   "cell_type": "code",
   "execution_count": 48,
   "metadata": {
    "collapsed": true
   },
   "outputs": [],
   "source": [
    "url_template = \"http://www.indeed.com/jobs?q=data+scientist+%2420%2C000&l={}&start={}\"\n",
    "max_results_per_city = 100 # Set this to a high-value (5000) to generate more results. \n",
    "# Crawling more results, will also take much longer. First test your code on a small number of results and then expand.\n",
    "\n",
    "results = []\n",
    "\n",
    "for city in set(['New+York', 'Chicago', 'San+Francisco', 'Austin', 'Seattle', \n",
    "    'Los+Angeles', 'Philadelphia', 'Atlanta', 'Dallas', 'Pittsburgh', \n",
    "    'Portland', 'Phoenix', 'Denver', 'Houston', 'Miami', YOUR_CITY]):\n",
    "    for start in range(0, max_results_per_city, 10):\n",
    "        # Grab the results from the request (as above)\n",
    "        # Append to the full set of results\n",
    "        pass"
   ]
  },
  {
   "cell_type": "code",
   "execution_count": null,
   "metadata": {
    "collapsed": true
   },
   "outputs": [],
   "source": []
  },
  {
   "cell_type": "code",
   "execution_count": null,
   "metadata": {
    "collapsed": true
   },
   "outputs": [],
   "source": []
  },
  {
   "cell_type": "code",
   "execution_count": null,
   "metadata": {
    "collapsed": true
   },
   "outputs": [],
   "source": []
  },
  {
   "cell_type": "code",
   "execution_count": null,
   "metadata": {
    "collapsed": true
   },
   "outputs": [],
   "source": []
  },
  {
   "cell_type": "code",
   "execution_count": null,
   "metadata": {
    "collapsed": true
   },
   "outputs": [],
   "source": []
  },
  {
   "cell_type": "code",
   "execution_count": null,
   "metadata": {
    "collapsed": true
   },
   "outputs": [],
   "source": []
  },
  {
   "cell_type": "code",
   "execution_count": null,
   "metadata": {
    "collapsed": true
   },
   "outputs": [],
   "source": []
  },
  {
   "cell_type": "code",
   "execution_count": null,
   "metadata": {
    "collapsed": true
   },
   "outputs": [],
   "source": []
  },
  {
   "cell_type": "code",
   "execution_count": null,
   "metadata": {
    "collapsed": true
   },
   "outputs": [],
   "source": []
  },
  {
   "cell_type": "code",
   "execution_count": null,
   "metadata": {
    "collapsed": true
   },
   "outputs": [],
   "source": [
    "# predict whether a post will be gilded (given Reddit gold) or not "
   ]
  },
  {
   "cell_type": "code",
   "execution_count": 114,
   "metadata": {
    "collapsed": true
   },
   "outputs": [],
   "source": [
    "reddit_threads = ['leagueoflegends', 'relationships', 'gaming', 'history', 'SeattleWA', 'running','soccer','xboxone',\n",
    "                 'LifeProTips','fitness']"
   ]
  },
  {
   "cell_type": "code",
   "execution_count": 116,
   "metadata": {
    "collapsed": false,
    "focus": false,
    "id": "2c6752c4-7704-4c94-8bc0-6f13d2d0d570"
   },
   "outputs": [],
   "source": [
    "base = 'https://www.reddit.com'\n",
    "soup = BeautifulSoup(urllib2.urlopen('https://www.reddit.com/r/relationships/').read())\n",
    "#parsed_json = json.loads(soup.text)\n",
    "divs = soup.find_all('div', class_='thing')"
   ]
  },
  {
   "cell_type": "code",
   "execution_count": 117,
   "metadata": {
    "collapsed": false
   },
   "outputs": [
    {
     "name": "stdout",
     "output_type": "stream",
     "text": [
      "[<div class=\" thing id-t3_5a52og linkflair linkflair-m-vt linkflair-relationships odd link self\" data-author=\"throwaway593928\" data-author-fullname=\"t2_12h1gt\" data-context=\"listing\" data-domain=\"self.relationships\" data-fullname=\"t3_5a52og\" data-rank=\"1\" data-subreddit=\"relationships\" data-subreddit-fullname=\"t5_2qjvn\" data-timestamp=\"1477813335000\" data-type=\"link\" data-url=\"/r/relationships/comments/5a52og/my_29f_husbands_29m_drinking_is_becoming_a/\" id=\"thing_t3_5a52og\" onclick=\"click_thing(this)\"><p class=\"parent\"></p><span class=\"rank\">1</span><div class=\"midcol unvoted\"><div aria-label=\"upvote\" class=\"arrow up login-required access-required\" data-event-action=\"upvote\" role=\"button\" tabindex=\"0\"></div><div class=\"score dislikes\">538</div><div class=\"score unvoted\">539</div><div class=\"score likes\">540</div><div aria-label=\"downvote\" class=\"arrow down login-required access-required\" data-event-action=\"downvote\" role=\"button\" tabindex=\"0\"></div></div><div class=\"entry unvoted\"><p class=\"title\"><a class=\"title may-blank \" data-event-action=\"title\" href=\"/r/relationships/comments/5a52og/my_29f_husbands_29m_drinking_is_becoming_a/\" rel=\"\" tabindex=\"1\">My (29/F) Husband's (29/M) drinking is becoming a problem. We lost our baby. I don't know what to do.</a><span class=\"linkflairlabel\" title=\"Relationships\">Relationships</span> <span class=\"domain\">(<a href=\"/r/relationships/\">self.relationships</a>)</span></p><div class=\"expando-button collapsed selftext\"></div><p class=\"tagline \">submitted <time class=\"live-timestamp\" datetime=\"2016-10-30T07:42:15+00:00\" title=\"Sun Oct 30 07:42:15 2016 UTC\">7 hours ago</time> <time class=\"edited-timestamp\" datetime=\"2016-10-30T14:18:40+00:00\" title=\"last edited 47 minutes ago\">*</time> by <a class=\"author may-blank id-t2_12h1gt\" href=\"https://www.reddit.com/user/throwaway593928\">throwaway593928</a><span class=\"userattrs\"></span></p><ul class=\"flat-list buttons\"><li class=\"first\"><a class=\"bylink comments may-blank\" data-event-action=\"comments\" href=\"https://www.reddit.com/r/relationships/comments/5a52og/my_29f_husbands_29m_drinking_is_becoming_a/\" rel=\"nofollow\">59 comments</a></li><li class=\"share\"><a class=\"post-sharing-button\" href=\"javascript: void 0;\">share</a></li></ul><div class=\"reportform report-t3_5a52og\"></div><div class=\"expando expando-uninitialized\" style=\"display: none\"><span class=\"error\">loading...</span></div></div><div class=\"child\"></div><div class=\"clearleft\"></div></div>, <div class=\" thing id-t3_5a5i47 linkflair linkflair-m-gn linkflair-misc even link self\" data-author=\"Hassian\" data-author-fullname=\"t2_12h3se\" data-context=\"listing\" data-domain=\"self.relationships\" data-fullname=\"t3_5a5i47\" data-rank=\"2\" data-subreddit=\"relationships\" data-subreddit-fullname=\"t5_2qjvn\" data-timestamp=\"1477824297000\" data-type=\"link\" data-url=\"/r/relationships/comments/5a5i47/i_13m_am_having_a_hard_time_accepting_my/\" id=\"thing_t3_5a5i47\" onclick=\"click_thing(this)\"><p class=\"parent\"></p><span class=\"rank\">2</span><div class=\"midcol unvoted\"><div aria-label=\"upvote\" class=\"arrow up login-required access-required\" data-event-action=\"upvote\" role=\"button\" tabindex=\"0\"></div><div class=\"score dislikes\">176</div><div class=\"score unvoted\">177</div><div class=\"score likes\">178</div><div aria-label=\"downvote\" class=\"arrow down login-required access-required\" data-event-action=\"downvote\" role=\"button\" tabindex=\"0\"></div></div><div class=\"entry unvoted\"><p class=\"title\"><a class=\"title may-blank \" data-event-action=\"title\" href=\"/r/relationships/comments/5a5i47/i_13m_am_having_a_hard_time_accepting_my/\" rel=\"\" tabindex=\"1\">I [13M] am having a hard time accepting my situation. Everyone else seems to have these big families and I'm a foster kid with no family.</a><span class=\"linkflairlabel\" title=\"Non-Romantic\">Non-Romantic</span> <span class=\"domain\">(<a href=\"/r/relationships/\">self.relationships</a>)</span></p><div class=\"expando-button collapsed selftext\"></div><p class=\"tagline \">submitted <time class=\"live-timestamp\" datetime=\"2016-10-30T10:44:57+00:00\" title=\"Sun Oct 30 10:44:57 2016 UTC\">4 hours ago</time> by <a class=\"author may-blank id-t2_12h3se\" href=\"https://www.reddit.com/user/Hassian\">Hassian</a><span class=\"userattrs\"></span></p><ul class=\"flat-list buttons\"><li class=\"first\"><a class=\"bylink comments may-blank\" data-event-action=\"comments\" href=\"https://www.reddit.com/r/relationships/comments/5a5i47/i_13m_am_having_a_hard_time_accepting_my/\" rel=\"nofollow\">34 comments</a></li><li class=\"share\"><a class=\"post-sharing-button\" href=\"javascript: void 0;\">share</a></li></ul><div class=\"reportform report-t3_5a5i47\"></div><div class=\"expando expando-uninitialized\" style=\"display: none\"><span class=\"error\">loading...</span></div></div><div class=\"child\"></div><div class=\"clearleft\"></div></div>, <div class=\" thing id-t3_5a4y66 linkflair linkflair-m-oe linkflair-infidelity odd link self\" data-author=\"Worriedaboutnothing7\" data-author-fullname=\"t2_12h0ws\" data-context=\"listing\" data-domain=\"self.relationships\" data-fullname=\"t3_5a4y66\" data-rank=\"3\" data-subreddit=\"relationships\" data-subreddit-fullname=\"t5_2qjvn\" data-timestamp=\"1477810385000\" data-type=\"link\" data-url=\"/r/relationships/comments/5a4y66/my_boyfriend_23m_slept_in_the_same_bed_as_another/\" id=\"thing_t3_5a4y66\" onclick=\"click_thing(this)\"><p class=\"parent\"></p><span class=\"rank\">3</span><div class=\"midcol unvoted\"><div aria-label=\"upvote\" class=\"arrow up login-required access-required\" data-event-action=\"upvote\" role=\"button\" tabindex=\"0\"></div><div class=\"score dislikes\">292</div><div class=\"score unvoted\">293</div><div class=\"score likes\">294</div><div aria-label=\"downvote\" class=\"arrow down login-required access-required\" data-event-action=\"downvote\" role=\"button\" tabindex=\"0\"></div></div><div class=\"entry unvoted\"><p class=\"title\"><a class=\"title may-blank \" data-event-action=\"title\" href=\"/r/relationships/comments/5a4y66/my_boyfriend_23m_slept_in_the_same_bed_as_another/\" rel=\"\" tabindex=\"1\">My boyfriend (23M) slept in the same bed as another girl, and told me (24F) about it. My friends (20sF) think he\\u2019s \\u201ctrickle-truthing\\u201d me.</a><span class=\"linkflairlabel\" title=\"Infidelity\">Infidelity</span> <span class=\"domain\">(<a href=\"/r/relationships/\">self.relationships</a>)</span></p><div class=\"expando-button collapsed selftext\"></div><p class=\"tagline \">submitted <time class=\"live-timestamp\" datetime=\"2016-10-30T06:53:05+00:00\" title=\"Sun Oct 30 06:53:05 2016 UTC\">8 hours ago</time> by <a class=\"author may-blank id-t2_12h0ws\" href=\"https://www.reddit.com/user/Worriedaboutnothing7\">Worriedaboutnothing7</a><span class=\"userattrs\"></span></p><ul class=\"flat-list buttons\"><li class=\"first\"><a class=\"bylink comments may-blank\" data-event-action=\"comments\" href=\"https://www.reddit.com/r/relationships/comments/5a4y66/my_boyfriend_23m_slept_in_the_same_bed_as_another/\" rel=\"nofollow\">78 comments</a></li><li class=\"share\"><a class=\"post-sharing-button\" href=\"javascript: void 0;\">share</a></li></ul><div class=\"reportform report-t3_5a4y66\"></div><div class=\"expando expando-uninitialized\" style=\"display: none\"><span class=\"error\">loading...</span></div></div><div class=\"child\"></div><div class=\"clearleft\"></div></div>, <div class=\" thing id-t3_5a5nqc linkflair linkflair-m-gn linkflair-misc even link self\" data-author=\"heretofor3\" data-author-fullname=\"t2_12h465\" data-context=\"listing\" data-domain=\"self.relationships\" data-fullname=\"t3_5a5nqc\" data-rank=\"4\" data-subreddit=\"relationships\" data-subreddit-fullname=\"t5_2qjvn\" data-timestamp=\"1477827936000\" data-type=\"link\" data-url=\"/r/relationships/comments/5a5nqc/i_25f_slept_with_a_man_30m_overseas_and_now_his/\" id=\"thing_t3_5a5nqc\" onclick=\"click_thing(this)\"><p class=\"parent\"></p><span class=\"rank\">4</span><div class=\"midcol unvoted\"><div aria-label=\"upvote\" class=\"arrow up login-required access-required\" data-event-action=\"upvote\" role=\"button\" tabindex=\"0\"></div><div class=\"score dislikes\">96</div><div class=\"score unvoted\">97</div><div class=\"score likes\">98</div><div aria-label=\"downvote\" class=\"arrow down login-required access-required\" data-event-action=\"downvote\" role=\"button\" tabindex=\"0\"></div></div><div class=\"entry unvoted\"><p class=\"title\"><a class=\"title may-blank \" data-event-action=\"title\" href=\"/r/relationships/comments/5a5nqc/i_25f_slept_with_a_man_30m_overseas_and_now_his/\" rel=\"\" tabindex=\"1\">I (25/F) slept with a man (30/M) overseas, and now his wife, who I didn't know existed, won't leave me alone.</a><span class=\"linkflairlabel\" title=\"Non-Romantic\">Non-Romantic</span> <span class=\"domain\">(<a href=\"/r/relationships/\">self.relationships</a>)</span></p><div class=\"expando-button collapsed selftext\"></div><p class=\"tagline \">submitted <time class=\"live-timestamp\" datetime=\"2016-10-30T11:45:36+00:00\" title=\"Sun Oct 30 11:45:36 2016 UTC\">3 hours ago</time> <time class=\"edited-timestamp\" datetime=\"2016-10-30T11:50:56+00:00\" title=\"last edited 3 hours ago\">*</time> by <a class=\"author may-blank id-t2_12h465\" href=\"https://www.reddit.com/user/heretofor3\">heretofor3</a><span class=\"userattrs\"></span></p><ul class=\"flat-list buttons\"><li class=\"first\"><a class=\"bylink comments may-blank\" data-event-action=\"comments\" href=\"https://www.reddit.com/r/relationships/comments/5a5nqc/i_25f_slept_with_a_man_30m_overseas_and_now_his/\" rel=\"nofollow\">41 comments</a></li><li class=\"share\"><a class=\"post-sharing-button\" href=\"javascript: void 0;\">share</a></li></ul><div class=\"reportform report-t3_5a5nqc\"></div><div class=\"expando expando-uninitialized\" style=\"display: none\"><span class=\"error\">loading...</span></div></div><div class=\"child\"></div><div class=\"clearleft\"></div></div>, <div class=\" thing id-t3_5a5xcp linkflair linkflair-m-gn linkflair-misc odd link self\" data-author=\"brightlocks\" data-author-fullname=\"t2_g1gqi\" data-context=\"listing\" data-domain=\"self.relationships\" data-fullname=\"t3_5a5xcp\" data-rank=\"5\" data-subreddit=\"relationships\" data-subreddit-fullname=\"t5_2qjvn\" data-timestamp=\"1477832850000\" data-type=\"link\" data-url=\"/r/relationships/comments/5a5xcp/my_41f_daughters_best_friends_13f_father_45m/\" id=\"thing_t3_5a5xcp\" onclick=\"click_thing(this)\"><p class=\"parent\"></p><span class=\"rank\">5</span><div class=\"midcol unvoted\"><div aria-label=\"upvote\" class=\"arrow up login-required access-required\" data-event-action=\"upvote\" role=\"button\" tabindex=\"0\"></div><div class=\"score likes\">\\u2022</div><div class=\"score unvoted\">\\u2022</div><div class=\"score dislikes\">\\u2022</div><div aria-label=\"downvote\" class=\"arrow down login-required access-required\" data-event-action=\"downvote\" role=\"button\" tabindex=\"0\"></div></div><div class=\"entry unvoted\"><p class=\"title\"><a class=\"title may-blank \" data-event-action=\"title\" href=\"/r/relationships/comments/5a5xcp/my_41f_daughters_best_friends_13f_father_45m/\" rel=\"\" tabindex=\"1\">My [41F] daughter's best friend's [13F] father [45M] drove drunk with the girls last night. Help me confront him.</a><span class=\"linkflairlabel\" title=\"Non-Romantic\">Non-Romantic</span> <span class=\"domain\">(<a href=\"/r/relationships/\">self.relationships</a>)</span></p><div class=\"expando-button collapsed selftext\"></div><p class=\"tagline \">submitted <time class=\"live-timestamp\" datetime=\"2016-10-30T13:07:30+00:00\" title=\"Sun Oct 30 13:07:30 2016 UTC\">1 hour ago</time> <time class=\"edited-timestamp\" datetime=\"2016-10-30T13:29:40+00:00\" title=\"last edited 1 hour ago\">*</time> by <a class=\"author may-blank id-t2_g1gqi\" href=\"https://www.reddit.com/user/brightlocks\">brightlocks</a><span class=\"userattrs\"></span></p><ul class=\"flat-list buttons\"><li class=\"first\"><a class=\"bylink comments may-blank\" data-event-action=\"comments\" href=\"https://www.reddit.com/r/relationships/comments/5a5xcp/my_41f_daughters_best_friends_13f_father_45m/\" rel=\"nofollow\">21 comments</a></li><li class=\"share\"><a class=\"post-sharing-button\" href=\"javascript: void 0;\">share</a></li></ul><div class=\"reportform report-t3_5a5xcp\"></div><div class=\"expando expando-uninitialized\" style=\"display: none\"><span class=\"error\">loading...</span></div></div><div class=\"child\"></div><div class=\"clearleft\"></div></div>, <div class=\" thing id-t3_5a5xxi linkflair linkflair-m-vt linkflair-relationships even link self\" data-author=\"blogbomber_1\" data-author-fullname=\"t2_10ww85\" data-context=\"listing\" data-domain=\"self.relationships\" data-fullname=\"t3_5a5xxi\" data-rank=\"6\" data-subreddit=\"relationships\" data-subreddit-fullname=\"t5_2qjvn\" data-timestamp=\"1477833131000\" data-type=\"link\" data-url=\"/r/relationships/comments/5a5xxi/me_34_m_with_my_gf_31_f_7_months_called_me_gay/\" id=\"thing_t3_5a5xxi\" onclick=\"click_thing(this)\"><p class=\"parent\"></p><span class=\"rank\">6</span><div class=\"midcol unvoted\"><div aria-label=\"upvote\" class=\"arrow up login-required access-required\" data-event-action=\"upvote\" role=\"button\" tabindex=\"0\"></div><div class=\"score likes\">\\u2022</div><div class=\"score unvoted\">\\u2022</div><div class=\"score dislikes\">\\u2022</div><div aria-label=\"downvote\" class=\"arrow down login-required access-required\" data-event-action=\"downvote\" role=\"button\" tabindex=\"0\"></div></div><div class=\"entry unvoted\"><p class=\"title\"><a class=\"title may-blank \" data-event-action=\"title\" href=\"/r/relationships/comments/5a5xxi/me_34_m_with_my_gf_31_f_7_months_called_me_gay/\" rel=\"\" tabindex=\"1\">Me [34 M] with my gf [31 F] 7 months, called me gay for helping her gay male friend</a><span class=\"linkflairlabel\" title=\"Relationships\">Relationships</span> <span class=\"domain\">(<a href=\"/r/relationships/\">self.relationships</a>)</span></p><div class=\"expando-button collapsed selftext\"></div><p class=\"tagline \">submitted <time class=\"live-timestamp\" datetime=\"2016-10-30T13:12:11+00:00\" title=\"Sun Oct 30 13:12:11 2016 UTC\">1 hour ago</time> <time class=\"edited-timestamp\" datetime=\"2016-10-30T13:19:53+00:00\" title=\"last edited 1 hour ago\">*</time> by <a class=\"author may-blank id-t2_10ww85\" href=\"https://www.reddit.com/user/blogbomber_1\">blogbomber_1</a><span class=\"userattrs\"></span></p><ul class=\"flat-list buttons\"><li class=\"first\"><a class=\"bylink comments may-blank\" data-event-action=\"comments\" href=\"https://www.reddit.com/r/relationships/comments/5a5xxi/me_34_m_with_my_gf_31_f_7_months_called_me_gay/\" rel=\"nofollow\">32 comments</a></li><li class=\"share\"><a class=\"post-sharing-button\" href=\"javascript: void 0;\">share</a></li></ul><div class=\"reportform report-t3_5a5xxi\"></div><div class=\"expando expando-uninitialized\" style=\"display: none\"><span class=\"error\">loading...</span></div></div><div class=\"child\"></div><div class=\"clearleft\"></div></div>, <div class=\" thing id-t3_5a4k36 linkflair linkflair-m-vt linkflair-relationships odd link self\" data-author=\"Andimthegf\" data-author-fullname=\"t2_12gyju\" data-context=\"listing\" data-domain=\"self.relationships\" data-fullname=\"t3_5a4k36\" data-rank=\"7\" data-subreddit=\"relationships\" data-subreddit-fullname=\"t5_2qjvn\" data-timestamp=\"1477802547000\" data-type=\"link\" data-url=\"/r/relationships/comments/5a4k36/my_24_bf_30_was_staring_at_his_cousininlaw_28_all/\" id=\"thing_t3_5a4k36\" onclick=\"click_thing(this)\"><p class=\"parent\"></p><span class=\"rank\">7</span><div class=\"midcol unvoted\"><div aria-label=\"upvote\" class=\"arrow up login-required access-required\" data-event-action=\"upvote\" role=\"button\" tabindex=\"0\"></div><div class=\"score dislikes\">118</div><div class=\"score unvoted\">119</div><div class=\"score likes\">120</div><div aria-label=\"downvote\" class=\"arrow down login-required access-required\" data-event-action=\"downvote\" role=\"button\" tabindex=\"0\"></div></div><div class=\"entry unvoted\"><p class=\"title\"><a class=\"title may-blank \" data-event-action=\"title\" href=\"/r/relationships/comments/5a4k36/my_24_bf_30_was_staring_at_his_cousininlaw_28_all/\" rel=\"\" tabindex=\"1\">My [24] bf [30] was staring at his ... cousin-in-law [28]? all through dinner.</a><span class=\"linkflairlabel\" title=\"Relationships\">Relationships</span> <span class=\"domain\">(<a href=\"/r/relationships/\">self.relationships</a>)</span></p><div class=\"expando-button collapsed selftext\"></div><p class=\"tagline \">submitted <time class=\"live-timestamp\" datetime=\"2016-10-30T04:42:27+00:00\" title=\"Sun Oct 30 04:42:27 2016 UTC\">10 hours ago</time> by <a class=\"author may-blank id-t2_12gyju\" href=\"https://www.reddit.com/user/Andimthegf\">Andimthegf</a><span class=\"userattrs\"></span></p><ul class=\"flat-list buttons\"><li class=\"first\"><a class=\"bylink comments may-blank\" data-event-action=\"comments\" href=\"https://www.reddit.com/r/relationships/comments/5a4k36/my_24_bf_30_was_staring_at_his_cousininlaw_28_all/\" rel=\"nofollow\">40 comments</a></li><li class=\"share\"><a class=\"post-sharing-button\" href=\"javascript: void 0;\">share</a></li></ul><div class=\"reportform report-t3_5a4k36\"></div><div class=\"expando expando-uninitialized\" style=\"display: none\"><span class=\"error\">loading...</span></div></div><div class=\"child\"></div><div class=\"clearleft\"></div></div>, <div class=\" thing id-t3_5a5ivu linkflair linkflair-new even link self\" data-author=\"Wemustntpanic\" data-author-fullname=\"t2_qx571\" data-context=\"listing\" data-domain=\"self.relationships\" data-fullname=\"t3_5a5ivu\" data-rank=\"8\" data-subreddit=\"relationships\" data-subreddit-fullname=\"t5_2qjvn\" data-timestamp=\"1477824821000\" data-type=\"link\" data-url=\"/r/relationships/comments/5a5ivu/i_32f_dont_know_whos_at_fault_or_what_to_do/\" id=\"thing_t3_5a5ivu\" onclick=\"click_thing(this)\"><p class=\"parent\"></p><span class=\"rank\">8</span><div class=\"midcol unvoted\"><div aria-label=\"upvote\" class=\"arrow up login-required access-required\" data-event-action=\"upvote\" role=\"button\" tabindex=\"0\"></div><div class=\"score dislikes\">33</div><div class=\"score unvoted\">34</div><div class=\"score likes\">35</div><div aria-label=\"downvote\" class=\"arrow down login-required access-required\" data-event-action=\"downvote\" role=\"button\" tabindex=\"0\"></div></div><div class=\"entry unvoted\"><p class=\"title\"><a class=\"title may-blank \" data-event-action=\"title\" href=\"/r/relationships/comments/5a5ivu/i_32f_dont_know_whos_at_fault_or_what_to_do/\" rel=\"\" tabindex=\"1\">I (32F) don't know who's at fault or what to do anymore. My husband (38M) and I seem to clash about everything and I'm desperately sad.</a><span class=\"linkflairlabel\" title=\"[new]\">[new]</span> <span class=\"domain\">(<a href=\"/r/relationships/\">self.relationships</a>)</span></p><div class=\"expando-button collapsed selftext\"></div><p class=\"tagline \">submitted <time class=\"live-timestamp\" datetime=\"2016-10-30T10:53:41+00:00\" title=\"Sun Oct 30 10:53:41 2016 UTC\">4 hours ago</time> by <a class=\"author may-blank id-t2_qx571\" href=\"https://www.reddit.com/user/Wemustntpanic\">Wemustntpanic</a><span class=\"userattrs\"></span></p><ul class=\"flat-list buttons\"><li class=\"first\"><a class=\"bylink comments may-blank\" data-event-action=\"comments\" href=\"https://www.reddit.com/r/relationships/comments/5a5ivu/i_32f_dont_know_whos_at_fault_or_what_to_do/\" rel=\"nofollow\">18 comments</a></li><li class=\"share\"><a class=\"post-sharing-button\" href=\"javascript: void 0;\">share</a></li></ul><div class=\"reportform report-t3_5a5ivu\"></div><div class=\"expando expando-uninitialized\" style=\"display: none\"><span class=\"error\">loading...</span></div></div><div class=\"child\"></div><div class=\"clearleft\"></div></div>, <div class=\" thing id-t3_5a5xna linkflair linkflair-m-gn linkflair-misc odd link self\" data-author=\"gravesworldly\" data-author-fullname=\"t2_12h5el\" data-context=\"listing\" data-domain=\"self.relationships\" data-fullname=\"t3_5a5xna\" data-rank=\"9\" data-subreddit=\"relationships\" data-subreddit-fullname=\"t5_2qjvn\" data-timestamp=\"1477832994000\" data-type=\"link\" data-url=\"/r/relationships/comments/5a5xna/i_49f_dont_know_what_to_do_about_my_older/\" id=\"thing_t3_5a5xna\" onclick=\"click_thing(this)\"><p class=\"parent\"></p><span class=\"rank\">9</span><div class=\"midcol unvoted\"><div aria-label=\"upvote\" class=\"arrow up login-required access-required\" data-event-action=\"upvote\" role=\"button\" tabindex=\"0\"></div><div class=\"score likes\">\\u2022</div><div class=\"score unvoted\">\\u2022</div><div class=\"score dislikes\">\\u2022</div><div aria-label=\"downvote\" class=\"arrow down login-required access-required\" data-event-action=\"downvote\" role=\"button\" tabindex=\"0\"></div></div><div class=\"entry unvoted\"><p class=\"title\"><a class=\"title may-blank \" data-event-action=\"title\" href=\"/r/relationships/comments/5a5xna/i_49f_dont_know_what_to_do_about_my_older/\" rel=\"\" tabindex=\"1\">I [49/F] don't know what to do about my older daughter [25/F] constantly trying to screw over my younger daughter [16/F]</a><span class=\"linkflairlabel\" title=\"Non-Romantic\">Non-Romantic</span> <span class=\"domain\">(<a href=\"/r/relationships/\">self.relationships</a>)</span></p><div class=\"expando-button collapsed selftext\"></div><p class=\"tagline \">submitted <time class=\"live-timestamp\" datetime=\"2016-10-30T13:09:54+00:00\" title=\"Sun Oct 30 13:09:54 2016 UTC\">1 hour ago</time> by <a class=\"author may-blank id-t2_12h5el\" href=\"https://www.reddit.com/user/gravesworldly\">gravesworldly</a><span class=\"userattrs\"></span></p><ul class=\"flat-list buttons\"><li class=\"first\"><a class=\"bylink comments may-blank\" data-event-action=\"comments\" href=\"https://www.reddit.com/r/relationships/comments/5a5xna/i_49f_dont_know_what_to_do_about_my_older/\" rel=\"nofollow\">30 comments</a></li><li class=\"share\"><a class=\"post-sharing-button\" href=\"javascript: void 0;\">share</a></li></ul><div class=\"reportform report-t3_5a5xna\"></div><div class=\"expando expando-uninitialized\" style=\"display: none\"><span class=\"error\">loading...</span></div></div><div class=\"child\"></div><div class=\"clearleft\"></div></div>, <div class=\" thing id-t3_5a5oso linkflair linkflair-m-gn linkflair-misc even link self\" data-author=\"christoffellis\" data-author-fullname=\"t2_j7od0\" data-context=\"listing\" data-domain=\"self.relationships\" data-fullname=\"t3_5a5oso\" data-rank=\"10\" data-subreddit=\"relationships\" data-subreddit-fullname=\"t5_2qjvn\" data-timestamp=\"1477828533000\" data-type=\"link\" data-url=\"/r/relationships/comments/5a5oso/my_16_m_girlfriends_16_f_mother_42_f_constantly/\" id=\"thing_t3_5a5oso\" onclick=\"click_thing(this)\"><p class=\"parent\"></p><span class=\"rank\">10</span><div class=\"midcol unvoted\"><div aria-label=\"upvote\" class=\"arrow up login-required access-required\" data-event-action=\"upvote\" role=\"button\" tabindex=\"0\"></div><div class=\"score dislikes\">24</div><div class=\"score unvoted\">25</div><div class=\"score likes\">26</div><div aria-label=\"downvote\" class=\"arrow down login-required access-required\" data-event-action=\"downvote\" role=\"button\" tabindex=\"0\"></div></div><div class=\"entry unvoted\"><p class=\"title\"><a class=\"title may-blank \" data-event-action=\"title\" href=\"/r/relationships/comments/5a5oso/my_16_m_girlfriends_16_f_mother_42_f_constantly/\" rel=\"\" tabindex=\"1\">My [16 M] Girlfriend's [16 F] Mother [42 F] constantly breaks her down, and I'm sick of it</a><span class=\"linkflairlabel\" title=\"Non-Romantic\">Non-Romantic</span> <span class=\"domain\">(<a href=\"/r/relationships/\">self.relationships</a>)</span></p><div class=\"expando-button collapsed selftext\"></div><p class=\"tagline \">submitted <time class=\"live-timestamp\" datetime=\"2016-10-30T11:55:33+00:00\" title=\"Sun Oct 30 11:55:33 2016 UTC\">3 hours ago</time> by <a class=\"author may-blank id-t2_j7od0\" href=\"https://www.reddit.com/user/christoffellis\">christoffellis</a><span class=\"userattrs\"></span></p><ul class=\"flat-list buttons\"><li class=\"first\"><a class=\"bylink comments may-blank\" data-event-action=\"comments\" href=\"https://www.reddit.com/r/relationships/comments/5a5oso/my_16_m_girlfriends_16_f_mother_42_f_constantly/\" rel=\"nofollow\">3 comments</a></li><li class=\"share\"><a class=\"post-sharing-button\" href=\"javascript: void 0;\">share</a></li></ul><div class=\"reportform report-t3_5a5oso\"></div><div class=\"expando expando-uninitialized\" style=\"display: none\"><span class=\"error\">loading...</span></div></div><div class=\"child\"></div><div class=\"clearleft\"></div></div>, <div class=\" thing id-t3_5a2mu9 linkflair linkflair-m-gn linkflair-misc odd link self\" data-author=\"letmelift\" data-author-fullname=\"t2_12gnfp\" data-context=\"listing\" data-domain=\"self.relationships\" data-fullname=\"t3_5a2mu9\" data-rank=\"11\" data-subreddit=\"relationships\" data-subreddit-fullname=\"t5_2qjvn\" data-timestamp=\"1477775330000\" data-type=\"link\" data-url=\"/r/relationships/comments/5a2mu9/i_18_m_have_epilepsy_and_my_dad_40_m_keeps_me/\" id=\"thing_t3_5a2mu9\" onclick=\"click_thing(this)\"><p class=\"parent\"></p><span class=\"rank\">11</span><div class=\"midcol unvoted\"><div aria-label=\"upvote\" class=\"arrow up login-required access-required\" data-event-action=\"upvote\" role=\"button\" tabindex=\"0\"></div><div class=\"score dislikes\">361</div><div class=\"score unvoted\">362</div><div class=\"score likes\">363</div><div aria-label=\"downvote\" class=\"arrow down login-required access-required\" data-event-action=\"downvote\" role=\"button\" tabindex=\"0\"></div></div><div class=\"entry unvoted\"><p class=\"title\"><a class=\"title may-blank \" data-event-action=\"title\" href=\"/r/relationships/comments/5a2mu9/i_18_m_have_epilepsy_and_my_dad_40_m_keeps_me/\" rel=\"\" tabindex=\"1\">I [18 M] have epilepsy and my dad [40 M] keeps me locked inside and prevents me from living a normal life</a><span class=\"linkflairlabel\" title=\"Non-Romantic\">Non-Romantic</span> <span class=\"domain\">(<a href=\"/r/relationships/\">self.relationships</a>)</span></p><div class=\"expando-button collapsed selftext\"></div><p class=\"tagline \">submitted <time class=\"live-timestamp\" datetime=\"2016-10-29T21:08:50+00:00\" title=\"Sat Oct 29 21:08:50 2016 UTC\">17 hours ago</time> by <a class=\"author may-blank id-t2_12gnfp\" href=\"https://www.reddit.com/user/letmelift\">letmelift</a><span class=\"userattrs\"></span></p><ul class=\"flat-list buttons\"><li class=\"first\"><a class=\"bylink comments may-blank\" data-event-action=\"comments\" href=\"https://www.reddit.com/r/relationships/comments/5a2mu9/i_18_m_have_epilepsy_and_my_dad_40_m_keeps_me/\" rel=\"nofollow\">43 comments</a></li><li class=\"share\"><a class=\"post-sharing-button\" href=\"javascript: void 0;\">share</a></li></ul><div class=\"reportform report-t3_5a2mu9\"></div><div class=\"expando expando-uninitialized\" style=\"display: none\"><span class=\"error\">loading...</span></div></div><div class=\"child\"></div><div class=\"clearleft\"></div></div>, <div class=\" thing id-t3_5a5xic linkflair linkflair-new even link self\" data-author=\"Nottogetheryet\" data-author-fullname=\"t2_of0y5\" data-context=\"listing\" data-domain=\"self.relationships\" data-fullname=\"t3_5a5xic\" data-rank=\"12\" data-subreddit=\"relationships\" data-subreddit-fullname=\"t5_2qjvn\" data-timestamp=\"1477832931000\" data-type=\"link\" data-url=\"/r/relationships/comments/5a5xic/me_24_mf_with_my_bf_24_mf_1_year_said_today_his/\" id=\"thing_t3_5a5xic\" onclick=\"click_thing(this)\"><p class=\"parent\"></p><span class=\"rank\">12</span><div class=\"midcol unvoted\"><div aria-label=\"upvote\" class=\"arrow up login-required access-required\" data-event-action=\"upvote\" role=\"button\" tabindex=\"0\"></div><div class=\"score likes\">\\u2022</div><div class=\"score unvoted\">\\u2022</div><div class=\"score dislikes\">\\u2022</div><div aria-label=\"downvote\" class=\"arrow down login-required access-required\" data-event-action=\"downvote\" role=\"button\" tabindex=\"0\"></div></div><div class=\"entry unvoted\"><p class=\"title\"><a class=\"title may-blank \" data-event-action=\"title\" href=\"/r/relationships/comments/5a5xic/me_24_mf_with_my_bf_24_mf_1_year_said_today_his/\" rel=\"\" tabindex=\"1\">Me [24 M/F] with my bf [24 M/F] 1 year, said today his mum should be able to disrespect me and still see my child.</a><span class=\"linkflairlabel\" title=\"[new]\">[new]</span> <span class=\"domain\">(<a href=\"/r/relationships/\">self.relationships</a>)</span></p><div class=\"expando-button collapsed selftext\"></div><p class=\"tagline \">submitted <time class=\"live-timestamp\" datetime=\"2016-10-30T13:08:51+00:00\" title=\"Sun Oct 30 13:08:51 2016 UTC\">1 hour ago</time> by <a class=\"author may-blank id-t2_of0y5\" href=\"https://www.reddit.com/user/Nottogetheryet\">Nottogetheryet</a><span class=\"userattrs\"></span></p><ul class=\"flat-list buttons\"><li class=\"first\"><a class=\"bylink comments may-blank\" data-event-action=\"comments\" href=\"https://www.reddit.com/r/relationships/comments/5a5xic/me_24_mf_with_my_bf_24_mf_1_year_said_today_his/\" rel=\"nofollow\">17 comments</a></li><li class=\"share\"><a class=\"post-sharing-button\" href=\"javascript: void 0;\">share</a></li></ul><div class=\"reportform report-t3_5a5xic\"></div><div class=\"expando expando-uninitialized\" style=\"display: none\"><span class=\"error\">loading...</span></div></div><div class=\"child\"></div><div class=\"clearleft\"></div></div>, <div class=\" thing id-t3_5a4avp linkflair linkflair-m-vt linkflair-relationships odd link self\" data-author=\"MindNumber\" data-author-fullname=\"t2_7xfh0\" data-context=\"listing\" data-domain=\"self.relationships\" data-fullname=\"t3_5a4avp\" data-rank=\"13\" data-subreddit=\"relationships\" data-subreddit-fullname=\"t5_2qjvn\" data-timestamp=\"1477798274000\" data-type=\"link\" data-url=\"/r/relationships/comments/5a4avp/me_f25_and_boyfriend_of_4_years_m25_everything/\" id=\"thing_t3_5a4avp\" onclick=\"click_thing(this)\"><p class=\"parent\"></p><span class=\"rank\">13</span><div class=\"midcol unvoted\"><div aria-label=\"upvote\" class=\"arrow up login-required access-required\" data-event-action=\"upvote\" role=\"button\" tabindex=\"0\"></div><div class=\"score dislikes\">93</div><div class=\"score unvoted\">94</div><div class=\"score likes\">95</div><div aria-label=\"downvote\" class=\"arrow down login-required access-required\" data-event-action=\"downvote\" role=\"button\" tabindex=\"0\"></div></div><div class=\"entry unvoted\"><p class=\"title\"><a class=\"title may-blank \" data-event-action=\"title\" href=\"/r/relationships/comments/5a4avp/me_f25_and_boyfriend_of_4_years_m25_everything/\" rel=\"\" tabindex=\"1\">Me (F25) and boyfriend of 4 years (M25). Everything seemed so normal until today.</a><span class=\"linkflairlabel\" title=\"Relationships\">Relationships</span> <span class=\"domain\">(<a href=\"/r/relationships/\">self.relationships</a>)</span></p><div class=\"expando-button collapsed selftext\"></div><p class=\"tagline \">submitted <time class=\"live-timestamp\" datetime=\"2016-10-30T03:31:14+00:00\" title=\"Sun Oct 30 03:31:14 2016 UTC\">11 hours ago</time> <time class=\"edited-timestamp\" datetime=\"2016-10-30T03:58:57+00:00\" title=\"last edited 11 hours ago\">*</time> by <a class=\"author may-blank id-t2_7xfh0\" href=\"https://www.reddit.com/user/MindNumber\">MindNumber</a><span class=\"userattrs\"></span></p><ul class=\"flat-list buttons\"><li class=\"first\"><a class=\"bylink comments may-blank\" data-event-action=\"comments\" href=\"https://www.reddit.com/r/relationships/comments/5a4avp/me_f25_and_boyfriend_of_4_years_m25_everything/\" rel=\"nofollow\">76 comments</a></li><li class=\"share\"><a class=\"post-sharing-button\" href=\"javascript: void 0;\">share</a></li></ul><div class=\"reportform report-t3_5a4avp\"></div><div class=\"expando expando-uninitialized\" style=\"display: none\"><span class=\"error\">loading...</span></div></div><div class=\"child\"></div><div class=\"clearleft\"></div></div>, <div class=\" thing id-t3_5a6257 linkflair linkflair-new even link self\" data-author=\"Serenawww\" data-author-fullname=\"t2_yn4fk\" data-context=\"listing\" data-domain=\"self.relationships\" data-fullname=\"t3_5a6257\" data-rank=\"14\" data-subreddit=\"relationships\" data-subreddit-fullname=\"t5_2qjvn\" data-timestamp=\"1477835090000\" data-type=\"link\" data-url=\"/r/relationships/comments/5a6257/boyfriend_told_me_he_would_leave_me_if_he_found/\" id=\"thing_t3_5a6257\" onclick=\"click_thing(this)\"><p class=\"parent\"></p><span class=\"rank\">14</span><div class=\"midcol unvoted\"><div aria-label=\"upvote\" class=\"arrow up login-required access-required\" data-event-action=\"upvote\" role=\"button\" tabindex=\"0\"></div><div class=\"score likes\">\\u2022</div><div class=\"score unvoted\">\\u2022</div><div class=\"score dislikes\">\\u2022</div><div aria-label=\"downvote\" class=\"arrow down login-required access-required\" data-event-action=\"downvote\" role=\"button\" tabindex=\"0\"></div></div><div class=\"entry unvoted\"><p class=\"title\"><a class=\"title may-blank \" data-event-action=\"title\" href=\"/r/relationships/comments/5a6257/boyfriend_told_me_he_would_leave_me_if_he_found/\" rel=\"nofollow\" tabindex=\"1\">Boyfriend told me he would leave me if he found someone better, who makes him happier.</a><span class=\"linkflairlabel\" title=\"[new]\">[new]</span> <span class=\"domain\">(<a href=\"/r/relationships/\">self.relationships</a>)</span></p><div class=\"expando-button collapsed selftext\"></div><p class=\"tagline \">submitted <time class=\"live-timestamp\" datetime=\"2016-10-30T13:44:50+00:00\" title=\"Sun Oct 30 13:44:50 2016 UTC\">1 hour ago</time> by <a class=\"author may-blank id-t2_yn4fk\" href=\"https://www.reddit.com/user/Serenawww\">Serenawww</a><span class=\"userattrs\"></span></p><ul class=\"flat-list buttons\"><li class=\"first\"><a class=\"bylink comments may-blank\" data-event-action=\"comments\" href=\"https://www.reddit.com/r/relationships/comments/5a6257/boyfriend_told_me_he_would_leave_me_if_he_found/\" rel=\"nofollow\">18 comments</a></li><li class=\"share\"><a class=\"post-sharing-button\" href=\"javascript: void 0;\">share</a></li></ul><div class=\"reportform report-t3_5a6257\"></div><div class=\"expando expando-uninitialized\" style=\"display: none\"><span class=\"error\">loading...</span></div></div><div class=\"child\"></div><div class=\"clearleft\"></div></div>, <div class=\" thing id-t3_5a2hdd linkflair linkflair-m-vt linkflair-relationships odd link self\" data-author=\"Karasevde24\" data-author-fullname=\"t2_102ndp\" data-context=\"listing\" data-domain=\"self.relationships\" data-fullname=\"t3_5a2hdd\" data-rank=\"15\" data-subreddit=\"relationships\" data-subreddit-fullname=\"t5_2qjvn\" data-timestamp=\"1477773447000\" data-type=\"link\" data-url=\"/r/relationships/comments/5a2hdd/my_boyfriends_31m_son_10_is_terrible/\" id=\"thing_t3_5a2hdd\" onclick=\"click_thing(this)\"><p class=\"parent\"></p><span class=\"rank\">15</span><div class=\"midcol unvoted\"><div aria-label=\"upvote\" class=\"arrow up login-required access-required\" data-event-action=\"upvote\" role=\"button\" tabindex=\"0\"></div><div class=\"score dislikes\">277</div><div class=\"score unvoted\">278</div><div class=\"score likes\">279</div><div aria-label=\"downvote\" class=\"arrow down login-required access-required\" data-event-action=\"downvote\" role=\"button\" tabindex=\"0\"></div></div><div class=\"entry unvoted\"><p class=\"title\"><a class=\"title may-blank \" data-event-action=\"title\" href=\"/r/relationships/comments/5a2hdd/my_boyfriends_31m_son_10_is_terrible/\" rel=\"\" tabindex=\"1\">My boyfriends (31M) son (10) is terrible.</a><span class=\"linkflairlabel\" title=\"Relationships\">Relationships</span> <span class=\"domain\">(<a href=\"/r/relationships/\">self.relationships</a>)</span></p><div class=\"expando-button collapsed selftext\"></div><p class=\"tagline \">submitted <time class=\"live-timestamp\" datetime=\"2016-10-29T20:37:27+00:00\" title=\"Sat Oct 29 20:37:27 2016 UTC\">18 hours ago</time> <time class=\"edited-timestamp\" datetime=\"2016-10-30T00:53:23+00:00\" title=\"last edited 14 hours ago\">*</time> by <a class=\"author may-blank id-t2_102ndp\" href=\"https://www.reddit.com/user/Karasevde24\">Karasevde24</a><span class=\"userattrs\"></span></p><ul class=\"flat-list buttons\"><li class=\"first\"><a class=\"bylink comments may-blank\" data-event-action=\"comments\" href=\"https://www.reddit.com/r/relationships/comments/5a2hdd/my_boyfriends_31m_son_10_is_terrible/\" rel=\"nofollow\">75 comments</a></li><li class=\"share\"><a class=\"post-sharing-button\" href=\"javascript: void 0;\">share</a></li></ul><div class=\"reportform report-t3_5a2hdd\"></div><div class=\"expando expando-uninitialized\" style=\"display: none\"><span class=\"error\">loading...</span></div></div><div class=\"child\"></div><div class=\"clearleft\"></div></div>, <div class=\" thing id-t3_5a5teg linkflair linkflair-m-vt linkflair-relationships even link self\" data-author=\"TBThrowawayThurs\" data-author-fullname=\"t2_12h4r0\" data-context=\"listing\" data-domain=\"self.relationships\" data-fullname=\"t3_5a5teg\" data-rank=\"16\" data-subreddit=\"relationships\" data-subreddit-fullname=\"t5_2qjvn\" data-timestamp=\"1477830935000\" data-type=\"link\" data-url=\"/r/relationships/comments/5a5teg/i30m_feel_isolated_with_my_wife29f_of_15_years/\" id=\"thing_t3_5a5teg\" onclick=\"click_thing(this)\"><p class=\"parent\"></p><span class=\"rank\">16</span><div class=\"midcol unvoted\"><div aria-label=\"upvote\" class=\"arrow up login-required access-required\" data-event-action=\"upvote\" role=\"button\" tabindex=\"0\"></div><div class=\"score dislikes\">12</div><div class=\"score unvoted\">13</div><div class=\"score likes\">14</div><div aria-label=\"downvote\" class=\"arrow down login-required access-required\" data-event-action=\"downvote\" role=\"button\" tabindex=\"0\"></div></div><div class=\"entry unvoted\"><p class=\"title\"><a class=\"title may-blank \" data-event-action=\"title\" href=\"/r/relationships/comments/5a5teg/i30m_feel_isolated_with_my_wife29f_of_15_years/\" rel=\"\" tabindex=\"1\">I(30m) feel isolated with my wife(29f) of 1.5 years</a><span class=\"linkflairlabel\" title=\"Relationships\">Relationships</span> <span class=\"domain\">(<a href=\"/r/relationships/\">self.relationships</a>)</span></p><div class=\"expando-button collapsed selftext\"></div><p class=\"tagline \">submitted <time class=\"live-timestamp\" datetime=\"2016-10-30T12:35:35+00:00\" title=\"Sun Oct 30 12:35:35 2016 UTC\">2 hours ago</time> by <a class=\"author may-blank id-t2_12h4r0\" href=\"https://www.reddit.com/user/TBThrowawayThurs\">TBThrowawayThurs</a><span class=\"userattrs\"></span></p><ul class=\"flat-list buttons\"><li class=\"first\"><a class=\"bylink comments may-blank\" data-event-action=\"comments\" href=\"https://www.reddit.com/r/relationships/comments/5a5teg/i30m_feel_isolated_with_my_wife29f_of_15_years/\" rel=\"nofollow\">19 comments</a></li><li class=\"share\"><a class=\"post-sharing-button\" href=\"javascript: void 0;\">share</a></li></ul><div class=\"reportform report-t3_5a5teg\"></div><div class=\"expando expando-uninitialized\" style=\"display: none\"><span class=\"error\">loading...</span></div></div><div class=\"child\"></div><div class=\"clearleft\"></div></div>, <div class=\" thing id-t3_5a34r5 linkflair linkflair-m-oe linkflair-infidelity odd link self\" data-author=\"Gogglepooch\" data-author-fullname=\"t2_12ettk\" data-context=\"listing\" data-domain=\"self.relationships\" data-fullname=\"t3_5a34r5\" data-rank=\"17\" data-subreddit=\"relationships\" data-subreddit-fullname=\"t5_2qjvn\" data-timestamp=\"1477781503000\" data-type=\"link\" data-url=\"/r/relationships/comments/5a34r5/me_24m_with_my_gf_25_f_of_1_year_she_cheated_i/\" id=\"thing_t3_5a34r5\" onclick=\"click_thing(this)\"><p class=\"parent\"></p><span class=\"rank\">17</span><div class=\"midcol unvoted\"><div aria-label=\"upvote\" class=\"arrow up login-required access-required\" data-event-action=\"upvote\" role=\"button\" tabindex=\"0\"></div><div class=\"score dislikes\">165</div><div class=\"score unvoted\">166</div><div class=\"score likes\">167</div><div aria-label=\"downvote\" class=\"arrow down login-required access-required\" data-event-action=\"downvote\" role=\"button\" tabindex=\"0\"></div></div><div class=\"entry unvoted\"><p class=\"title\"><a class=\"title may-blank \" data-event-action=\"title\" href=\"/r/relationships/comments/5a34r5/me_24m_with_my_gf_25_f_of_1_year_she_cheated_i/\" rel=\"nofollow\" tabindex=\"1\">Me [24M/] with my gf [25 F] of 1 year- she cheated, i forgave her, but now her period is late and i cant be around her.</a><span class=\"linkflairlabel\" title=\"Infidelity\">Infidelity</span> <span class=\"domain\">(<a href=\"/r/relationships/\">self.relationships</a>)</span></p><div class=\"expando-button collapsed selftext\"></div><p class=\"tagline \">submitted <time class=\"live-timestamp\" datetime=\"2016-10-29T22:51:43+00:00\" title=\"Sat Oct 29 22:51:43 2016 UTC\">16 hours ago</time> by <a class=\"author may-blank id-t2_12ettk\" href=\"https://www.reddit.com/user/Gogglepooch\">Gogglepooch</a><span class=\"userattrs\"></span></p><ul class=\"flat-list buttons\"><li class=\"first\"><a class=\"bylink comments may-blank\" data-event-action=\"comments\" href=\"https://www.reddit.com/r/relationships/comments/5a34r5/me_24m_with_my_gf_25_f_of_1_year_she_cheated_i/\" rel=\"nofollow\">99 comments</a></li><li class=\"share\"><a class=\"post-sharing-button\" href=\"javascript: void 0;\">share</a></li></ul><div class=\"reportform report-t3_5a34r5\"></div><div class=\"expando expando-uninitialized\" style=\"display: none\"><span class=\"error\">loading...</span></div></div><div class=\"child\"></div><div class=\"clearleft\"></div></div>, <div class=\" thing id-t3_5a5b21 linkflair linkflair-m-gn linkflair-misc even link self\" data-author=\"fjuner\" data-author-fullname=\"t2_12h2vj\" data-context=\"listing\" data-domain=\"self.relationships\" data-fullname=\"t3_5a5b21\" data-rank=\"18\" data-subreddit=\"relationships\" data-subreddit-fullname=\"t5_2qjvn\" data-timestamp=\"1477819274000\" data-type=\"link\" data-url=\"/r/relationships/comments/5a5b21/my_m19_best_friend_m19_is_losing_his_mind_because/\" id=\"thing_t3_5a5b21\" onclick=\"click_thing(this)\"><p class=\"parent\"></p><span class=\"rank\">18</span><div class=\"midcol unvoted\"><div aria-label=\"upvote\" class=\"arrow up login-required access-required\" data-event-action=\"upvote\" role=\"button\" tabindex=\"0\"></div><div class=\"score dislikes\">22</div><div class=\"score unvoted\">23</div><div class=\"score likes\">24</div><div aria-label=\"downvote\" class=\"arrow down login-required access-required\" data-event-action=\"downvote\" role=\"button\" tabindex=\"0\"></div></div><div class=\"entry unvoted\"><p class=\"title\"><a class=\"title may-blank \" data-event-action=\"title\" href=\"/r/relationships/comments/5a5b21/my_m19_best_friend_m19_is_losing_his_mind_because/\" rel=\"\" tabindex=\"1\">My [M19] best friend [M19] is losing his mind because of drugs, I don\\u2019t know how to help him</a><span class=\"linkflairlabel\" title=\"Non-Romantic\">Non-Romantic</span> <span class=\"domain\">(<a href=\"/r/relationships/\">self.relationships</a>)</span></p><div class=\"expando-button collapsed selftext\"></div><p class=\"tagline \">submitted <time class=\"live-timestamp\" datetime=\"2016-10-30T09:21:14+00:00\" title=\"Sun Oct 30 09:21:14 2016 UTC\">5 hours ago</time> by <a class=\"author may-blank id-t2_12h2vj\" href=\"https://www.reddit.com/user/fjuner\">fjuner</a><span class=\"userattrs\"></span></p><ul class=\"flat-list buttons\"><li class=\"first\"><a class=\"bylink comments may-blank\" data-event-action=\"comments\" href=\"https://www.reddit.com/r/relationships/comments/5a5b21/my_m19_best_friend_m19_is_losing_his_mind_because/\" rel=\"nofollow\">9 comments</a></li><li class=\"share\"><a class=\"post-sharing-button\" href=\"javascript: void 0;\">share</a></li></ul><div class=\"reportform report-t3_5a5b21\"></div><div class=\"expando expando-uninitialized\" style=\"display: none\"><span class=\"error\">loading...</span></div></div><div class=\"child\"></div><div class=\"clearleft\"></div></div>, <div class=\" thing id-t3_5a6942 linkflair linkflair-m-oe linkflair-infidelity odd link self\" data-author=\"TerribleWife2016\" data-author-fullname=\"t2_12h6ci\" data-context=\"listing\" data-domain=\"self.relationships\" data-fullname=\"t3_5a6942\" data-rank=\"19\" data-subreddit=\"relationships\" data-subreddit-fullname=\"t5_2qjvn\" data-timestamp=\"1477837871000\" data-type=\"link\" data-url=\"/r/relationships/comments/5a6942/i_29f_cheated_on_my_husband_32m_of_6_months_can_i/\" id=\"thing_t3_5a6942\" onclick=\"click_thing(this)\"><p class=\"parent\"></p><span class=\"rank\">19</span><div class=\"midcol unvoted\"><div aria-label=\"upvote\" class=\"arrow up login-required access-required\" data-event-action=\"upvote\" role=\"button\" tabindex=\"0\"></div><div class=\"score likes\">\\u2022</div><div class=\"score unvoted\">\\u2022</div><div class=\"score dislikes\">\\u2022</div><div aria-label=\"downvote\" class=\"arrow down login-required access-required\" data-event-action=\"downvote\" role=\"button\" tabindex=\"0\"></div></div><div class=\"entry unvoted\"><p class=\"title\"><a class=\"title may-blank \" data-event-action=\"title\" href=\"/r/relationships/comments/5a6942/i_29f_cheated_on_my_husband_32m_of_6_months_can_i/\" rel=\"nofollow\" tabindex=\"1\">I [29F] cheated on my husband [32M] of &lt;6 months. Can I fix this terrible terrible mistake?</a><span class=\"linkflairlabel\" title=\"Infidelity\">Infidelity</span> <span class=\"domain\">(<a href=\"/r/relationships/\">self.relationships</a>)</span></p><div class=\"expando-button collapsed selftext\"></div><p class=\"tagline \">submitted <time class=\"live-timestamp\" datetime=\"2016-10-30T14:31:11+00:00\" title=\"Sun Oct 30 14:31:11 2016 UTC\">34 minutes ago</time> by <a class=\"author may-blank id-t2_12h6ci\" href=\"https://www.reddit.com/user/TerribleWife2016\">TerribleWife2016</a><span class=\"userattrs\"></span></p><ul class=\"flat-list buttons\"><li class=\"first\"><a class=\"bylink comments may-blank\" data-event-action=\"comments\" href=\"https://www.reddit.com/r/relationships/comments/5a6942/i_29f_cheated_on_my_husband_32m_of_6_months_can_i/\" rel=\"nofollow\">5 comments</a></li><li class=\"share\"><a class=\"post-sharing-button\" href=\"javascript: void 0;\">share</a></li></ul><div class=\"reportform report-t3_5a6942\"></div><div class=\"expando expando-uninitialized\" style=\"display: none\"><span class=\"error\">loading...</span></div></div><div class=\"child\"></div><div class=\"clearleft\"></div></div>, <div class=\" thing id-t3_5a5pvx linkflair linkflair-m-vt linkflair-relationships even link self\" data-author=\"EdgarAetheling\" data-author-fullname=\"t2_127u5e\" data-context=\"listing\" data-domain=\"self.relationships\" data-fullname=\"t3_5a5pvx\" data-rank=\"20\" data-subreddit=\"relationships\" data-subreddit-fullname=\"t5_2qjvn\" data-timestamp=\"1477829091000\" data-type=\"link\" data-url=\"/r/relationships/comments/5a5pvx/me_30_m_with_my_girlfriend_26_f_18_months_am_i_in/\" id=\"thing_t3_5a5pvx\" onclick=\"click_thing(this)\"><p class=\"parent\"></p><span class=\"rank\">20</span><div class=\"midcol unvoted\"><div aria-label=\"upvote\" class=\"arrow up login-required access-required\" data-event-action=\"upvote\" role=\"button\" tabindex=\"0\"></div><div class=\"score dislikes\">14</div><div class=\"score unvoted\">15</div><div class=\"score likes\">16</div><div aria-label=\"downvote\" class=\"arrow down login-required access-required\" data-event-action=\"downvote\" role=\"button\" tabindex=\"0\"></div></div><div class=\"entry unvoted\"><p class=\"title\"><a class=\"title may-blank \" data-event-action=\"title\" href=\"/r/relationships/comments/5a5pvx/me_30_m_with_my_girlfriend_26_f_18_months_am_i_in/\" rel=\"\" tabindex=\"1\">Me [30 M] with my girlfriend [26 F] 18 months, am I in an abusive relationship?</a><span class=\"linkflairlabel\" title=\"Relationships\">Relationships</span> <span class=\"domain\">(<a href=\"/r/relationships/\">self.relationships</a>)</span></p><div class=\"expando-button collapsed selftext\"></div><p class=\"tagline \">submitted <time class=\"live-timestamp\" datetime=\"2016-10-30T12:04:51+00:00\" title=\"Sun Oct 30 12:04:51 2016 UTC\">3 hours ago</time> by <a class=\"author may-blank id-t2_127u5e\" href=\"https://www.reddit.com/user/EdgarAetheling\">EdgarAetheling</a><span class=\"userattrs\"></span></p><ul class=\"flat-list buttons\"><li class=\"first\"><a class=\"bylink comments may-blank\" data-event-action=\"comments\" href=\"https://www.reddit.com/r/relationships/comments/5a5pvx/me_30_m_with_my_girlfriend_26_f_18_months_am_i_in/\" rel=\"nofollow\">10 comments</a></li><li class=\"share\"><a class=\"post-sharing-button\" href=\"javascript: void 0;\">share</a></li></ul><div class=\"reportform report-t3_5a5pvx\"></div><div class=\"expando expando-uninitialized\" style=\"display: none\"><span class=\"error\">loading...</span></div></div><div class=\"child\"></div><div class=\"clearleft\"></div></div>, <div class=\" thing id-t3_5a1uzx linkflair linkflair-m-vt linkflair-relationships odd link self\" data-author=\"CatfishedOrNot\" data-author-fullname=\"t2_12ggn6\" data-context=\"listing\" data-domain=\"self.relationships\" data-fullname=\"t3_5a1uzx\" data-rank=\"21\" data-subreddit=\"relationships\" data-subreddit-fullname=\"t5_2qjvn\" data-timestamp=\"1477766005000\" data-type=\"link\" data-url=\"/r/relationships/comments/5a1uzx/i_25f_think_my_relationship_of_3_years_with_my/\" id=\"thing_t3_5a1uzx\" onclick=\"click_thing(this)\"><p class=\"parent\"></p><span class=\"rank\">21</span><div class=\"midcol unvoted\"><div aria-label=\"upvote\" class=\"arrow up login-required access-required\" data-event-action=\"upvote\" role=\"button\" tabindex=\"0\"></div><div class=\"score dislikes\">333</div><div class=\"score unvoted\">334</div><div class=\"score likes\">335</div><div aria-label=\"downvote\" class=\"arrow down login-required access-required\" data-event-action=\"downvote\" role=\"button\" tabindex=\"0\"></div></div><div class=\"entry unvoted\"><p class=\"title\"><a class=\"title may-blank \" data-event-action=\"title\" href=\"/r/relationships/comments/5a1uzx/i_25f_think_my_relationship_of_3_years_with_my/\" rel=\"\" tabindex=\"1\">I [25/F] think my relationship of 3 years with my boyfriend [28/M] may have been built on a lie of him being 'catfishes'</a><span class=\"linkflairlabel\" title=\"Relationships\">Relationships</span> <span class=\"domain\">(<a href=\"/r/relationships/\">self.relationships</a>)</span></p><div class=\"expando-button collapsed selftext\"></div><p class=\"tagline \">submitted <time class=\"live-timestamp\" datetime=\"2016-10-29T18:33:25+00:00\" title=\"Sat Oct 29 18:33:25 2016 UTC\">20 hours ago</time> <time class=\"edited-timestamp\" datetime=\"2016-10-29T20:27:28+00:00\" title=\"last edited 18 hours ago\">*</time> by <a class=\"author may-blank id-t2_12ggn6\" href=\"https://www.reddit.com/user/CatfishedOrNot\">CatfishedOrNot</a><span class=\"userattrs\"></span></p><ul class=\"flat-list buttons\"><li class=\"first\"><a class=\"bylink comments may-blank\" data-event-action=\"comments\" href=\"https://www.reddit.com/r/relationships/comments/5a1uzx/i_25f_think_my_relationship_of_3_years_with_my/\" rel=\"nofollow\">126 comments</a></li><li class=\"share\"><a class=\"post-sharing-button\" href=\"javascript: void 0;\">share</a></li></ul><div class=\"reportform report-t3_5a1uzx\"></div><div class=\"expando expando-uninitialized\" style=\"display: none\"><span class=\"error\">loading...</span></div></div><div class=\"child\"></div><div class=\"clearleft\"></div></div>, <div class=\" thing id-t3_5a3s6n linkflair linkflair-m-vt linkflair-relationships even link self\" data-author=\"throwaway3726113\" data-author-fullname=\"t2_12gvbn\" data-context=\"listing\" data-domain=\"self.relationships\" data-fullname=\"t3_5a3s6n\" data-rank=\"22\" data-subreddit=\"relationships\" data-subreddit-fullname=\"t5_2qjvn\" data-timestamp=\"1477790436000\" data-type=\"link\" data-url=\"/r/relationships/comments/5a3s6n/girlfriend_26f_uninvited_me_27m_her_fathers/\" id=\"thing_t3_5a3s6n\" onclick=\"click_thing(this)\"><p class=\"parent\"></p><span class=\"rank\">22</span><div class=\"midcol unvoted\"><div aria-label=\"upvote\" class=\"arrow up login-required access-required\" data-event-action=\"upvote\" role=\"button\" tabindex=\"0\"></div><div class=\"score dislikes\">77</div><div class=\"score unvoted\">78</div><div class=\"score likes\">79</div><div aria-label=\"downvote\" class=\"arrow down login-required access-required\" data-event-action=\"downvote\" role=\"button\" tabindex=\"0\"></div></div><div class=\"entry unvoted\"><p class=\"title\"><a class=\"title may-blank \" data-event-action=\"title\" href=\"/r/relationships/comments/5a3s6n/girlfriend_26f_uninvited_me_27m_her_fathers/\" rel=\"\" tabindex=\"1\">Girlfriend (26/F) uninvited me (27/M) her father\\u2019s birthday party, now claims she can\\u2019t be with me since I didn\\u2019t show up regardless.</a><span class=\"linkflairlabel\" title=\"Relationships\">Relationships</span> <span class=\"domain\">(<a href=\"/r/relationships/\">self.relationships</a>)</span></p><div class=\"expando-button collapsed selftext\"></div><p class=\"tagline \">submitted <time class=\"live-timestamp\" datetime=\"2016-10-30T01:20:36+00:00\" title=\"Sun Oct 30 01:20:36 2016 UTC\">13 hours ago</time> by <a class=\"author may-blank id-t2_12gvbn\" href=\"https://www.reddit.com/user/throwaway3726113\">throwaway3726113</a><span class=\"userattrs\"></span></p><ul class=\"flat-list buttons\"><li class=\"first\"><a class=\"bylink comments may-blank\" data-event-action=\"comments\" href=\"https://www.reddit.com/r/relationships/comments/5a3s6n/girlfriend_26f_uninvited_me_27m_her_fathers/\" rel=\"nofollow\">43 comments</a></li><li class=\"share\"><a class=\"post-sharing-button\" href=\"javascript: void 0;\">share</a></li></ul><div class=\"reportform report-t3_5a3s6n\"></div><div class=\"expando expando-uninitialized\" style=\"display: none\"><span class=\"error\">loading...</span></div></div><div class=\"child\"></div><div class=\"clearleft\"></div></div>, <div class=\" thing id-t3_5a3an0 linkflair linkflair-m-io linkflair-personal odd link self\" data-author=\"emilysbs\" data-author-fullname=\"t2_64hfm\" data-context=\"listing\" data-domain=\"self.relationships\" data-fullname=\"t3_5a3an0\" data-rank=\"23\" data-subreddit=\"relationships\" data-subreddit-fullname=\"t5_2qjvn\" data-timestamp=\"1477783706000\" data-type=\"link\" data-url=\"/r/relationships/comments/5a3an0/my_30f_cousin_26f_just_unexpectedly_passed_away/\" id=\"thing_t3_5a3an0\" onclick=\"click_thing(this)\"><p class=\"parent\"></p><span class=\"rank\">23</span><div class=\"midcol unvoted\"><div aria-label=\"upvote\" class=\"arrow up login-required access-required\" data-event-action=\"upvote\" role=\"button\" tabindex=\"0\"></div><div class=\"score dislikes\">94</div><div class=\"score unvoted\">95</div><div class=\"score likes\">96</div><div aria-label=\"downvote\" class=\"arrow down login-required access-required\" data-event-action=\"downvote\" role=\"button\" tabindex=\"0\"></div></div><div class=\"entry unvoted\"><p class=\"title\"><a class=\"title may-blank \" data-event-action=\"title\" href=\"/r/relationships/comments/5a3an0/my_30f_cousin_26f_just_unexpectedly_passed_away/\" rel=\"\" tabindex=\"1\">My (30F) cousin (26F) just unexpectedly passed away. We had a falling out 10 years ago and she has been trying to make amends for the past few years but I refused. Now feeling immense regret and not sure how to cope.</a><span class=\"linkflairlabel\" title=\"Personal issues\">Personal issues</span> <span class=\"domain\">(<a href=\"/r/relationships/\">self.relationships</a>)</span></p><div class=\"expando-button collapsed selftext\"></div><p class=\"tagline \">submitted <time class=\"live-timestamp\" datetime=\"2016-10-29T23:28:26+00:00\" title=\"Sat Oct 29 23:28:26 2016 UTC\">15 hours ago</time> by <a class=\"author may-blank id-t2_64hfm\" href=\"https://www.reddit.com/user/emilysbs\">emilysbs</a><span class=\"userattrs\"></span></p><ul class=\"flat-list buttons\"><li class=\"first\"><a class=\"bylink comments may-blank\" data-event-action=\"comments\" href=\"https://www.reddit.com/r/relationships/comments/5a3an0/my_30f_cousin_26f_just_unexpectedly_passed_away/\" rel=\"nofollow\">21 comments</a></li><li class=\"share\"><a class=\"post-sharing-button\" href=\"javascript: void 0;\">share</a></li></ul><div class=\"reportform report-t3_5a3an0\"></div><div class=\"expando expando-uninitialized\" style=\"display: none\"><span class=\"error\">loading...</span></div></div><div class=\"child\"></div><div class=\"clearleft\"></div></div>, <div class=\" thing id-t3_5a4oam linkflair linkflair-new even link self\" data-author=\"2318throwtodayaway\" data-author-fullname=\"t2_12gzlj\" data-context=\"listing\" data-domain=\"self.relationships\" data-fullname=\"t3_5a4oam\" data-rank=\"24\" data-subreddit=\"relationships\" data-subreddit-fullname=\"t5_2qjvn\" data-timestamp=\"1477804711000\" data-type=\"link\" data-url=\"/r/relationships/comments/5a4oam/me_23f_and_my_husband_27m_he_thinks_im_destroyed/\" id=\"thing_t3_5a4oam\" onclick=\"click_thing(this)\"><p class=\"parent\"></p><span class=\"rank\">24</span><div class=\"midcol unvoted\"><div aria-label=\"upvote\" class=\"arrow up login-required access-required\" data-event-action=\"upvote\" role=\"button\" tabindex=\"0\"></div><div class=\"score dislikes\">34</div><div class=\"score unvoted\">35</div><div class=\"score likes\">36</div><div aria-label=\"downvote\" class=\"arrow down login-required access-required\" data-event-action=\"downvote\" role=\"button\" tabindex=\"0\"></div></div><div class=\"entry unvoted\"><p class=\"title\"><a class=\"title may-blank \" data-event-action=\"title\" href=\"/r/relationships/comments/5a4oam/me_23f_and_my_husband_27m_he_thinks_im_destroyed/\" rel=\"\" tabindex=\"1\">Me [23F] and my husband [27M], he thinks I'm \"destroyed\" that he's gone just because I wanted to talk to him for five minutes. How do I not overreact?</a><span class=\"linkflairlabel\" title=\"[new]\">[new]</span> <span class=\"domain\">(<a href=\"/r/relationships/\">self.relationships</a>)</span></p><div class=\"expando-button collapsed selftext\"></div><p class=\"tagline \">submitted <time class=\"live-timestamp\" datetime=\"2016-10-30T05:18:31+00:00\" title=\"Sun Oct 30 05:18:31 2016 UTC\">9 hours ago</time> by <a class=\"author may-blank id-t2_12gzlj\" href=\"https://www.reddit.com/user/2318throwtodayaway\">2318throwtodayaway</a><span class=\"userattrs\"></span></p><ul class=\"flat-list buttons\"><li class=\"first\"><a class=\"bylink comments may-blank\" data-event-action=\"comments\" href=\"https://www.reddit.com/r/relationships/comments/5a4oam/me_23f_and_my_husband_27m_he_thinks_im_destroyed/\" rel=\"nofollow\">27 comments</a></li><li class=\"share\"><a class=\"post-sharing-button\" href=\"javascript: void 0;\">share</a></li></ul><div class=\"reportform report-t3_5a4oam\"></div><div class=\"expando expando-uninitialized\" style=\"display: none\"><span class=\"error\">loading...</span></div></div><div class=\"child\"></div><div class=\"clearleft\"></div></div>, <div class=\" thing id-t3_5a212v linkflair linkflair-m-gn linkflair-misc odd link self\" data-author=\"butternutty99\" data-author-fullname=\"t2_12glqt\" data-context=\"listing\" data-domain=\"self.relationships\" data-fullname=\"t3_5a212v\" data-rank=\"25\" data-subreddit=\"relationships\" data-subreddit-fullname=\"t5_2qjvn\" data-timestamp=\"1477767953000\" data-type=\"link\" data-url=\"/r/relationships/comments/5a212v/33f_with_my_elderly_neighbors_70sf_of_3_years_my/\" id=\"thing_t3_5a212v\" onclick=\"click_thing(this)\"><p class=\"parent\"></p><span class=\"rank\">25</span><div class=\"midcol unvoted\"><div aria-label=\"upvote\" class=\"arrow up login-required access-required\" data-event-action=\"upvote\" role=\"button\" tabindex=\"0\"></div><div class=\"score dislikes\">191</div><div class=\"score unvoted\">192</div><div class=\"score likes\">193</div><div aria-label=\"downvote\" class=\"arrow down login-required access-required\" data-event-action=\"downvote\" role=\"button\" tabindex=\"0\"></div></div><div class=\"entry unvoted\"><p class=\"title\"><a class=\"title may-blank \" data-event-action=\"title\" href=\"/r/relationships/comments/5a212v/33f_with_my_elderly_neighbors_70sf_of_3_years_my/\" rel=\"\" tabindex=\"1\">33F with my elderly neighbors 70'sF of 3 years. My neighbor has it out for me and I don't know why? Scared it will effect my personal life.</a><span class=\"linkflairlabel\" title=\"Non-Romantic\">Non-Romantic</span> <span class=\"domain\">(<a href=\"/r/relationships/\">self.relationships</a>)</span></p><div class=\"expando-button collapsed selftext\"></div><p class=\"tagline \">submitted <time class=\"live-timestamp\" datetime=\"2016-10-29T19:05:53+00:00\" title=\"Sat Oct 29 19:05:53 2016 UTC\">19 hours ago</time> by <a class=\"author may-blank id-t2_12glqt\" href=\"https://www.reddit.com/user/butternutty99\">butternutty99</a><span class=\"userattrs\"></span></p><ul class=\"flat-list buttons\"><li class=\"first\"><a class=\"bylink comments may-blank\" data-event-action=\"comments\" href=\"https://www.reddit.com/r/relationships/comments/5a212v/33f_with_my_elderly_neighbors_70sf_of_3_years_my/\" rel=\"nofollow\">55 comments</a></li><li class=\"share\"><a class=\"post-sharing-button\" href=\"javascript: void 0;\">share</a></li></ul><div class=\"reportform report-t3_5a212v\"></div><div class=\"expando expando-uninitialized\" style=\"display: none\"><span class=\"error\">loading...</span></div></div><div class=\"child\"></div><div class=\"clearleft\"></div></div>]\n"
     ]
    }
   ],
   "source": [
    "divs = soup.find_all('div', class_='thing')\n",
    "print divs"
   ]
  },
  {
   "cell_type": "code",
   "execution_count": null,
   "metadata": {
    "collapsed": true
   },
   "outputs": [],
   "source": [
    "# with open(filename, 'a') as f:\n",
    "#     f.write(line_of_text)"
   ]
  },
  {
   "cell_type": "code",
   "execution_count": 118,
   "metadata": {
    "collapsed": true
   },
   "outputs": [],
   "source": [
    "import re"
   ]
  },
  {
   "cell_type": "code",
   "execution_count": 143,
   "metadata": {
    "collapsed": false
   },
   "outputs": [
    {
     "name": "stdout",
     "output_type": "stream",
     "text": [
      "<=== post number ===> 0\n",
      "<--- span1 row ---> 0\n",
      "<span class=\"rank\">1</span>\n",
      "<-- div1 row ---> 0\n",
      "538539540\n",
      "<=== post number ===> 1\n",
      "<--- span1 row ---> 0\n",
      "<span class=\"rank\">2</span>\n",
      "<-- div1 row ---> 0\n",
      "176177178\n",
      "<=== post number ===> 2\n",
      "<--- span1 row ---> 0\n",
      "<span class=\"rank\">3</span>\n",
      "<-- div1 row ---> 0\n",
      "292293294\n",
      "<=== post number ===> 3\n",
      "<--- span1 row ---> 0\n",
      "<span class=\"rank\">4</span>\n",
      "<-- div1 row ---> 0\n",
      "969798\n",
      "<=== post number ===> 4\n",
      "<--- span1 row ---> 0\n",
      "<span class=\"rank\">5</span>\n",
      "<-- div1 row ---> 0\n",
      "•••\n",
      "<=== post number ===> 5\n",
      "<--- span1 row ---> 0\n",
      "<span class=\"rank\">6</span>\n",
      "<-- div1 row ---> 0\n",
      "•••\n",
      "<=== post number ===> 6\n",
      "<--- span1 row ---> 0\n",
      "<span class=\"rank\">7</span>\n",
      "<-- div1 row ---> 0\n",
      "118119120\n",
      "<=== post number ===> 7\n",
      "<--- span1 row ---> 0\n",
      "<span class=\"rank\">8</span>\n",
      "<-- div1 row ---> 0\n",
      "333435\n",
      "<=== post number ===> 8\n",
      "<--- span1 row ---> 0\n",
      "<span class=\"rank\">9</span>\n",
      "<-- div1 row ---> 0\n",
      "•••\n",
      "<=== post number ===> 9\n",
      "<--- span1 row ---> 0\n",
      "<span class=\"rank\">10</span>\n",
      "<-- div1 row ---> 0\n",
      "242526\n",
      "<=== post number ===> 10\n",
      "<--- span1 row ---> 0\n",
      "<span class=\"rank\">11</span>\n",
      "<-- div1 row ---> 0\n",
      "361362363\n",
      "<=== post number ===> 11\n",
      "<--- span1 row ---> 0\n",
      "<span class=\"rank\">12</span>\n",
      "<-- div1 row ---> 0\n",
      "•••\n",
      "<=== post number ===> 12\n",
      "<--- span1 row ---> 0\n",
      "<span class=\"rank\">13</span>\n",
      "<-- div1 row ---> 0\n",
      "939495\n",
      "<=== post number ===> 13\n",
      "<--- span1 row ---> 0\n",
      "<span class=\"rank\">14</span>\n",
      "<-- div1 row ---> 0\n",
      "•••\n",
      "<=== post number ===> 14\n",
      "<--- span1 row ---> 0\n",
      "<span class=\"rank\">15</span>\n",
      "<-- div1 row ---> 0\n",
      "277278279\n",
      "<=== post number ===> 15\n",
      "<--- span1 row ---> 0\n",
      "<span class=\"rank\">16</span>\n",
      "<-- div1 row ---> 0\n",
      "121314\n",
      "<=== post number ===> 16\n",
      "<--- span1 row ---> 0\n",
      "<span class=\"rank\">17</span>\n",
      "<-- div1 row ---> 0\n",
      "165166167\n",
      "<=== post number ===> 17\n",
      "<--- span1 row ---> 0\n",
      "<span class=\"rank\">18</span>\n",
      "<-- div1 row ---> 0\n",
      "222324\n",
      "<=== post number ===> 18\n",
      "<--- span1 row ---> 0\n",
      "<span class=\"rank\">19</span>\n",
      "<-- div1 row ---> 0\n",
      "•••\n",
      "<=== post number ===> 19\n",
      "<--- span1 row ---> 0\n",
      "<span class=\"rank\">20</span>\n",
      "<-- div1 row ---> 0\n",
      "141516\n",
      "<=== post number ===> 20\n",
      "<--- span1 row ---> 0\n",
      "<span class=\"rank\">21</span>\n",
      "<-- div1 row ---> 0\n",
      "333334335\n",
      "<=== post number ===> 21\n",
      "<--- span1 row ---> 0\n",
      "<span class=\"rank\">22</span>\n",
      "<-- div1 row ---> 0\n",
      "777879\n",
      "<=== post number ===> 22\n",
      "<--- span1 row ---> 0\n",
      "<span class=\"rank\">23</span>\n",
      "<-- div1 row ---> 0\n",
      "949596\n",
      "<=== post number ===> 23\n",
      "<--- span1 row ---> 0\n",
      "<span class=\"rank\">24</span>\n",
      "<-- div1 row ---> 0\n",
      "343536\n",
      "<=== post number ===> 24\n",
      "<--- span1 row ---> 0\n",
      "<span class=\"rank\">25</span>\n",
      "<-- div1 row ---> 0\n",
      "191192193\n",
      "[]\n"
     ]
    }
   ],
   "source": [
    "divs = soup.find_all('div', class_='thing')\n",
    "\n",
    "#going into the main divs that hold the posts themselves\n",
    "#including things like up/downvotes, ranks, post titles, comments links, etc\n",
    "for id1, main_divs in enumerate(divs):\n",
    "    dislikes = []\n",
    "    likes = []\n",
    "    print \"<=== post number ===>\", id1\n",
    "    ##this is level 2 inside of an individual div\n",
    "    ##level 2 is everything just below the div\n",
    "    for id2, span1 in enumerate(main_divs.find_all('span', class_='rank')):\n",
    "        print \"<--- span1 row --->\", id2\n",
    "        print span1\n",
    "    ##still level 2\n",
    "    for id3, div1 in enumerate(main_divs.find_all('div',class_='midcol unvoted')):\n",
    "        print \"<-- div1 row --->\", id3\n",
    "        print div1.text\n",
    "        #for num in [div1.text]:\n",
    "            #dislikes += re.findall('.{3}',num)[0]\n",
    "print dislikes"
   ]
  },
  {
   "cell_type": "code",
   "execution_count": null,
   "metadata": {
    "collapsed": true
   },
   "outputs": [],
   "source": []
  },
  {
   "cell_type": "code",
   "execution_count": null,
   "metadata": {
    "collapsed": true
   },
   "outputs": [],
   "source": []
  },
  {
   "cell_type": "code",
   "execution_count": 82,
   "metadata": {
    "collapsed": false
   },
   "outputs": [],
   "source": [
    "#this is great and all but i can only load the first page with this\n",
    "\n",
    "x = parsed_json['data']['children']\n",
    "y = pd.DataFrame(x)\n",
    "url = []\n",
    "perma = []\n",
    "title = []\n",
    "score = []\n",
    "gilded = []\n",
    "subreddit = []\n",
    "over_18 = []\n",
    "edited = []\n",
    "hide_score = []\n",
    "spoiler = []\n",
    "\n",
    "dicty = {\n",
    "    'url': [],\n",
    "    'permalink': [],\n",
    "    'title': [],\n",
    "    'score': [],\n",
    "    'gilded': [],\n",
    "    'subreddit': [],\n",
    "    'over_18': [],\n",
    "    'edited': [],\n",
    "    'hide_score': [],\n",
    "    'spoiler': []\n",
    "}\n",
    "for j,i in enumerate(x):\n",
    "    title.append(i['data']['title'])\n",
    "    dicty['title'] += j, [i['data']['title']]\n",
    "    perma.append(i['data']['permalink'])\n",
    "    dicty['permalink'] += j, [i['data']['permalink']]\n",
    "    score.append(i['data']['score'])\n",
    "    dicty['score'] += j, [i['data']['score']]\n",
    "    url.append(i['data']['url'])\n",
    "    dicty['url'] += j, [i['data']['url']]\n",
    "    gilded.append(i['data']['gilded'])\n",
    "    dicty['gilded'] += j, [i['data']['gilded']]\n",
    "    subreddit.append(i['data']['subreddit'])\n",
    "    dicty['subreddit'] += j, [i['data']['subreddit']]\n",
    "    over_18.append(i['data']['over_18'])\n",
    "    dicty['over_18'] += j, [i['data']['over_18']]\n",
    "    edited.append(i['data']['edited'])\n",
    "    dicty['edited'] += j, [i['data']['edited']]\n",
    "    hide_score.append(i['data']['hide_score'])\n",
    "    dicty['hide_score'] += j, [i['data']['hide_score']]\n",
    "    spoiler.append(i['data']['spoiler'])\n",
    "    dicty['spoiler'] += j, [i['data']['spoiler']]\n",
    "    \n",
    "df = pd.DataFrame(title)\n",
    "df['url'] = url\n",
    "df['Permalink'] = perma\n",
    "df['score'] = score\n",
    "df['gilded'] = gilded\n",
    "df['subreddit'] = subreddit\n",
    "df['over_18'] = over_18\n",
    "df['edited'] = edited\n",
    "df['hide_score'] = hide_score\n",
    "df['spoiler'] = spoiler\n",
    "df.columns = ['Title', 'URL', 'Permalink', 'Score','Gilded','SubReddit Name','Over 18 (NSFW)','Edited','Score hidden'\n",
    "             , 'Spoiler']\n"
   ]
  },
  {
   "cell_type": "markdown",
   "metadata": {
    "focus": false,
    "id": "bb0b866a-26a7-45e9-8084-5a0f90eb4b3e"
   },
   "source": [
    "Let's look at one result more closely. A single `result` looks like\n",
    "\n",
    "```\n",
    "<div class=\" row result\" data-jk=\"2480d203f7e97210\" data-tn-component=\"organicJob\" id=\"p_2480d203f7e97210\" itemscope=\"\" itemtype=\"http://schema.org/JobPosting\">\n",
    "<h2 class=\"jobtitle\" id=\"jl_2480d203f7e97210\">\n",
    "<a class=\"turnstileLink\" data-tn-element=\"jobTitle\" onmousedown=\"return rclk(this,jobmap[0],1);\" rel=\"nofollow\" target=\"_blank\" title=\"AVP/Quantitative Analyst\">AVP/Quantitative Analyst</a>\n",
    "</h2>\n",
    "<span class=\"company\" itemprop=\"hiringOrganization\" itemtype=\"http://schema.org/Organization\">\n",
    "<span itemprop=\"name\">\n",
    "<a href=\"/cmp/Alliancebernstein?from=SERP&amp;campaignid=serp-linkcompanyname&amp;fromjk=2480d203f7e97210&amp;jcid=b374f2a780e04789\" target=\"_blank\">\n",
    "    AllianceBernstein</a></span>\n",
    "</span>\n",
    "<tr>\n",
    "<td class=\"snip\">\n",
    "<nobr>$117,500 - $127,500 a year</nobr>\n",
    "<div>\n",
    "<span class=\"summary\" itemprop=\"description\">\n",
    "C onduct quantitative and statistical research as well as portfolio management for various investment portfolios. Collaborate with Quantitative Analysts and</span>\n",
    "</div>\n",
    "</div>\n",
    "</td>\n",
    "</tr>\n",
    "</table>\n",
    "</div>\n",
    "```\n",
    "\n",
    "While this has some more verbose elements removed, we can see that there is some structure to the above:\n",
    "- The salary is available in a `nobr` element inside of a `td` element with `class='snip`.\n",
    "- The title of a job is in a link with class set to `jobtitle` and a `data-tn-element=\"jobTitle`.  \n",
    "- The location is set in a `span` with `class='location'`. \n",
    "- The company is set in a `span` with `class='company'`. "
   ]
  },
  {
   "cell_type": "markdown",
   "metadata": {
    "focus": false,
    "id": "f1eddb90-4ba8-483c-a229-77e93aa53119"
   },
   "source": [
    "### Write 4 functions to extract each item: location, company, job, and salary.\n",
    "\n",
    "example: \n",
    "```python\n",
    "def extract_location_from_result(result):\n",
    "    return result.find ...\n",
    "```\n",
    "\n",
    "\n",
    "- **Make sure these functions are robust and can handle cases where the data/field may not be available.**\n",
    "    - Remember to check if a field is empty or `None` for attempting to call methods on it\n",
    "    - Remember to use `try/except` if you anticipate errors\n",
    "- **Test** the functions on the results above and simple examples"
   ]
  },
  {
   "cell_type": "code",
   "execution_count": 4,
   "metadata": {
    "collapsed": true,
    "focus": false,
    "id": "a1af53c9-9090-494f-b82e-cadb60a54909"
   },
   "outputs": [],
   "source": [
    "## YOUR CODE HERE"
   ]
  },
  {
   "cell_type": "markdown",
   "metadata": {
    "focus": false,
    "id": "34070e89-9521-4b45-90c8-57a6599aac68"
   },
   "source": [
    "Now, to scale up our scraping, we need to accumulate more results. We can do this by examining the URL above.\n",
    "\n",
    "- \"http://www.indeed.com/jobs?q=data+scientist+%2420%2C000&l=New+York&start=10\"\n",
    "\n",
    "There are two query parameters here we can alter to collect more results, the `l=New+York` and the `start=10`. The first controls the location of the results (so we can try a different city). The second controls where in the results to start and gives 10 results (thus, we can keep incrementing by 10 to go further in the list)."
   ]
  },
  {
   "cell_type": "markdown",
   "metadata": {
    "focus": false,
    "id": "e8beed7c-3e42-40c0-810f-5f67f8f885a0"
   },
   "source": [
    "#### Complete the following code to collect results from multiple cities and starting points. \n",
    "- Enter your city below to add it to the search\n",
    "- Remember to convert your salary to U.S. Dollars to match the other cities if the currency is different"
   ]
  },
  {
   "cell_type": "code",
   "execution_count": 5,
   "metadata": {
    "collapsed": true,
    "focus": false,
    "id": "a9aa87ec-3575-4a01-a986-eb684f2c47d0"
   },
   "outputs": [],
   "source": [
    "YOUR_CITY = 'Seattle'"
   ]
  },
  {
   "cell_type": "code",
   "execution_count": null,
   "metadata": {
    "collapsed": true
   },
   "outputs": [],
   "source": [
    "base = 'https://www.reddit.com'\n",
    "soup = BeautifulSoup(urllib2.urlopen('https://www.reddit.com/r/relationships/').read())\n",
    "#parsed_json = json.loads(soup.text)\n",
    "divs = soup.find_all('div', class_='thing')"
   ]
  },
  {
   "cell_type": "code",
   "execution_count": null,
   "metadata": {
    "collapsed": false,
    "focus": false,
    "id": "04b0f9af-540e-402f-8292-81748707c676"
   },
   "outputs": [
    {
     "name": "stdout",
     "output_type": "stream",
     "text": [
      "<=== Job Posting Info ===>\n",
      "Job title:  Senior Data Scientist\n",
      "Company name:  Stem Inc\n",
      "Location name:  San Francisco Bay Area, CA\n",
      "\n",
      "<=== Job Posting Info ===>\n",
      "Job title:  Data Scientist\n",
      "Company name:  Penn Schoen Berland\n",
      "Location name:  Washington, DC\n",
      "\n",
      "<=== Job Posting Info ===>\n",
      "Job title:  Data Scientist, Behavioral Researcher\n",
      "Company name:  Walmart eCommerce\n",
      "Location name:  San Bruno, CA 94066\n",
      "\n",
      "<=== Job Posting Info ===>\n",
      "Job title:  Data Engineer\n",
      "Company name:  Prosper\n",
      "Location name:  San Francisco, CA\n",
      "\n",
      "<=== Job Posting Info ===>\n",
      "Job title:  Data Scientist /Systems Engineer (Machine Learning)\n",
      "Company name:  SRC, Inc.\n",
      "Location name:  Syracuse, NY 13202\n",
      "\n",
      "<=== Job Posting Info ===>\n",
      "Job title:  Data Scientist\n",
      "Company name:  Dealer.com\n",
      "Location name:  Edison, NJ 08837\n",
      "\n",
      "<=== Job Posting Info ===>\n",
      "Job title:  Data Engineer\n",
      "Company name:  Prosper\n",
      "Location name:  San Francisco, CA\n",
      "\n",
      "<=== Job Posting Info ===>\n",
      "Job title:  Data Scientist /Systems Engineer (Machine Learning)\n",
      "Company name:  SRC, Inc.\n",
      "Location name:  Syracuse, NY 13202\n",
      "\n",
      "<=== Job Posting Info ===>\n",
      "Job title:  Data Scientist\n",
      "Company name:  Dealer.com\n",
      "Location name:  Edison, NJ 08837\n",
      "\n",
      "<=== Job Posting Info ===>\n",
      "Job title:  Data Engineer\n",
      "Company name:  Prosper\n",
      "Location name:  San Francisco, CA\n",
      "\n",
      "<=== Job Posting Info ===>\n",
      "Job title:  Data Scientist /Systems Engineer (Machine Learning)\n",
      "Company name:  SRC, Inc.\n",
      "Location name:  Syracuse, NY 13202\n",
      "\n",
      "<=== Job Posting Info ===>\n",
      "Job title:  Data Scientist\n",
      "Company name:  Dealer.com\n",
      "Location name:  Edison, NJ 08837\n",
      "\n"
     ]
    }
   ],
   "source": [
    "url_template = \"http://www.indeed.com/jobs?q=data+scientist+%2420%2C000&l={}&start={}\"\n",
    "max_results_per_city = 10 # Set this to a high-value (5000) to generate more results. \n",
    "# Crawling more results, will also take much longer. First test your code on a small number of results and then expand.\n",
    "\n",
    "results = []\n",
    "\n",
    "for city in set(['New+York', 'Chicago', 'San+Francisco', 'Austin', 'Seattle', \n",
    "    'Los+Angeles', 'Philadelphia', 'Atlanta', 'Dallas', 'Pittsburgh', \n",
    "    'Portland', 'Phoenix', 'Denver', 'Houston', 'Miami', YOUR_CITY]):\n",
    "    for start in range(0, max_results_per_city, 1):\n",
    "        # Grab the results from the request (as above)\n",
    "        # Append to the full set of results\n",
    "        url_template = \"http://www.indeed.com/jobs?q=data+scientist+%2420%2C000&l={}&start={}\".format(city,start)\n",
    "        results.append(url_template)\n",
    "        #base = 'https://www.reddit.com'\n",
    "        soup = BeautifulSoup(urllib2.urlopen(url_template).read())\n",
    "        divs = soup.find_all('div', class_='row result')\n",
    "        for id1, main_divs in enumerate(divs):\n",
    "            print \"<=== Job Posting Info ===>\\n\",\n",
    "            #print main_divs\n",
    "            ##this is level 2 inside of an individual div\n",
    "            ##level 2 is everything just below the div\n",
    "            for id2, a_jobtitle in enumerate(main_divs.find_all('a', class_='jobtitle')):\n",
    "                print \"Job title: \",a_jobtitle.text\n",
    "            for id3, span_company in enumerate(main_divs.find_all('span', class_='company')):\n",
    "                print \"Company name: \", span_company.text.strip()\n",
    "            for id4, span_location in enumerate(main_divs.find_all('span', class_='location')):\n",
    "                print \"Location name: \", span_location.text\n",
    "            for id4, td_element in enumerate(main_divs.find_all('td', class_='snip')):\n",
    "                for salary in td_element.find_all('nobr'):\n",
    "                    print \"Salary: \", salary.text\n",
    "            print \"\""
   ]
  },
  {
   "cell_type": "markdown",
   "metadata": {
    "focus": false,
    "id": "20339c09-5032-4e27-91be-286e9b46cd13"
   },
   "source": [
    "#### Use the functions you wrote above to parse out the 4 fields - location, title, company and salary. Create a dataframe from the results with those 4 columns."
   ]
  },
  {
   "cell_type": "code",
   "execution_count": 7,
   "metadata": {
    "collapsed": false,
    "focus": false,
    "id": "6e259594-1c52-436b-ab9e-527e071941c1"
   },
   "outputs": [],
   "source": [
    "## YOUR CODE HERE"
   ]
  },
  {
   "cell_type": "markdown",
   "metadata": {
    "focus": false,
    "id": "ff98ce64-78a7-441f-a675-63464e32c834"
   },
   "source": [
    "Lastly, we need to clean up salary data. \n",
    "\n",
    "1. Only a small number of the scraped results have salary information - only these will be used for modeling.\n",
    "1. Some of the salaries are not yearly but hourly or weekly, these will not be useful to us for now\n",
    "1. Some of the entries may be duplicated\n",
    "1. The salaries are given as text and usually with ranges.\n",
    "\n",
    "#### Find the entries with annual salary entries, by filtering the entries without salaries or salaries that are not yearly (filter those that refer to hour or week). Also, remove duplicate entries"
   ]
  },
  {
   "cell_type": "code",
   "execution_count": 9,
   "metadata": {
    "collapsed": false,
    "focus": false,
    "id": "58533e57-f86b-494a-b841-e7b59c6229c6"
   },
   "outputs": [],
   "source": [
    "## YOUR CODE HERE"
   ]
  },
  {
   "cell_type": "markdown",
   "metadata": {
    "focus": false,
    "id": "7d4bc860-b214-4f75-9cd0-b234830b1ec2"
   },
   "source": [
    "#### Write a function that takes a salary string and converts it to a number, averaging a salary range if necessary"
   ]
  },
  {
   "cell_type": "code",
   "execution_count": 10,
   "metadata": {
    "collapsed": true,
    "focus": false,
    "id": "a0f701e0-80bd-40ba-9101-4535860c0968"
   },
   "outputs": [],
   "source": [
    "## YOUR CODE HERE"
   ]
  },
  {
   "cell_type": "markdown",
   "metadata": {
    "collapsed": false,
    "focus": false,
    "id": "43e71edd-210e-42b1-9336-70a931f048af"
   },
   "source": [
    "### Save your results as a CSV"
   ]
  },
  {
   "cell_type": "code",
   "execution_count": 14,
   "metadata": {
    "collapsed": true,
    "focus": false,
    "id": "783fd153-28ac-47ab-bfca-27e7c1de95b4"
   },
   "outputs": [],
   "source": [
    "## YOUR CODE HERE"
   ]
  },
  {
   "cell_type": "markdown",
   "metadata": {
    "focus": false,
    "id": "04563b69-f7b6-466f-9d65-fc62c9ddee6a"
   },
   "source": [
    "## Predicting salaries using Logistic Regression"
   ]
  },
  {
   "cell_type": "markdown",
   "metadata": {
    "focus": false,
    "id": "243e949e-2742-40af-872e-fec475fd306c"
   },
   "source": [
    "#### Load in the the data of scraped salaries"
   ]
  },
  {
   "cell_type": "code",
   "execution_count": 12,
   "metadata": {
    "collapsed": false,
    "focus": false,
    "id": "588f9845-6143-4bcc-bfd1-85d45b79303d"
   },
   "outputs": [],
   "source": [
    "## YOUR CODE HERE"
   ]
  },
  {
   "cell_type": "markdown",
   "metadata": {
    "focus": false,
    "id": "c7631f51-07f2-4c79-a093-3e9bc7849a48"
   },
   "source": [
    "#### We want to predict a binary variable - whether the salary was low or high. Compute the median salary and create a new binary variable that is true when the salary is high (above the median)\n",
    "\n",
    "We could also perform Linear Regression (or any regression) to predict the salary value here. Instead, we are going to convert this into a _binary_ classification problem, by predicting two classes, HIGH vs LOW salary.\n",
    "\n",
    "While performing regression may be better, performing classification may help remove some of the noise of the extreme salaries. We don't have to choice the `median` as the splitting point - we could also split on the 75th percentile or any other reasonable breaking point.\n",
    "\n",
    "In fact, the ideal scenario may be to predict many levels of salaries, "
   ]
  },
  {
   "cell_type": "code",
   "execution_count": 15,
   "metadata": {
    "collapsed": true,
    "focus": false,
    "id": "c20d2498-151c-44c3-a453-3a333c79a0ac"
   },
   "outputs": [],
   "source": [
    "## YOUR CODE HERE"
   ]
  },
  {
   "cell_type": "markdown",
   "metadata": {
    "focus": false,
    "id": "a7afb2c0-d41e-4779-8216-91cd8dd4473f"
   },
   "source": [
    "#### Thought experiment: What is the baseline accuracy for this model?"
   ]
  },
  {
   "cell_type": "code",
   "execution_count": 16,
   "metadata": {
    "collapsed": true,
    "focus": false,
    "id": "87a17d3d-b7f4-4747-9f75-f9af1d18a174"
   },
   "outputs": [],
   "source": [
    "## YOUR CODE HERE"
   ]
  },
  {
   "cell_type": "markdown",
   "metadata": {
    "focus": false,
    "id": "4fb29de2-5b98-474c-a4ad-5170b72b9aea"
   },
   "source": [
    "#### Create a Logistic Regression model to predict High/Low salary using statsmodel. Start by ONLY using the location as a feature. Display the coefficients and write a short summary of what they mean."
   ]
  },
  {
   "cell_type": "code",
   "execution_count": 17,
   "metadata": {
    "collapsed": false,
    "focus": false,
    "id": "ddbc6159-6854-4ca7-857f-bfecdaf6d9c2"
   },
   "outputs": [],
   "source": [
    "## YOUR CODE HERE"
   ]
  },
  {
   "cell_type": "markdown",
   "metadata": {
    "focus": false,
    "id": "0ef04f32-419c-4bf2-baf7-48201f03df89"
   },
   "source": [
    "#### Create a few new variables in your dataframe to represent interesting features of a job title.\n",
    "- For example, create a feature that represents whether 'Senior' is in the title \n",
    "- or whether 'Manager' is in the title. \n",
    "- Then build a new Logistic Regression model with these features. Do they add any value? \n"
   ]
  },
  {
   "cell_type": "code",
   "execution_count": 18,
   "metadata": {
    "collapsed": false,
    "focus": false,
    "id": "068dc1cf-7fd7-4f27-a1f1-7f0a5a221d29"
   },
   "outputs": [],
   "source": [
    "## YOUR CODE HERE"
   ]
  },
  {
   "cell_type": "markdown",
   "metadata": {
    "focus": false,
    "id": "9c9274ef-c9f5-4d56-b286-ecc8709eff9f"
   },
   "source": [
    "#### Rebuild this model with scikit-learn.\n",
    "- You can either create the dummy features manually or use the `dmatrix` function from `patsy`\n",
    "- Remember to scale the feature variables as well!\n"
   ]
  },
  {
   "cell_type": "code",
   "execution_count": 19,
   "metadata": {
    "collapsed": false,
    "focus": false,
    "id": "b76f65cd-cd3a-4e91-af55-12880be7b057"
   },
   "outputs": [],
   "source": [
    "## YOUR CODE HERE"
   ]
  },
  {
   "cell_type": "markdown",
   "metadata": {
    "focus": false,
    "id": "9367beff-72ba-4768-a0ba-a50b335de61d"
   },
   "source": [
    "#### Use cross-validation in scikit-learn to evaluate the model above. \n",
    "- Evaluate the accuracy, AUC, precision and recall of the model. \n",
    "- Discuss the differences and explain when you want a high-recall or a high-precision model in this scenario."
   ]
  },
  {
   "cell_type": "code",
   "execution_count": 20,
   "metadata": {
    "collapsed": false,
    "focus": false,
    "id": "269b9e7c-60b5-4a06-8255-881d7395bc1b"
   },
   "outputs": [],
   "source": [
    "## YOUR CODE HERE"
   ]
  },
  {
   "cell_type": "markdown",
   "metadata": {
    "focus": false,
    "id": "8c22664b-92e4-4fc2-b7ac-fbac865845d3"
   },
   "source": [
    "#### Compare L1 and L2 regularization for this logistic regression model. What effect does this have on the coefficients learned?"
   ]
  },
  {
   "cell_type": "code",
   "execution_count": 21,
   "metadata": {
    "collapsed": false,
    "focus": false,
    "id": "172fd952-5012-4630-81f4-1206da6eb820"
   },
   "outputs": [],
   "source": [
    "## YOUR CODE HERE"
   ]
  },
  {
   "cell_type": "code",
   "execution_count": 22,
   "metadata": {
    "collapsed": false,
    "focus": false,
    "id": "56cc8854-d722-411d-a6c7-e86310710f67"
   },
   "outputs": [],
   "source": [
    "## YOUR CODE HERE"
   ]
  },
  {
   "cell_type": "markdown",
   "metadata": {
    "focus": false,
    "id": "fead9b5b-7316-405d-87fd-e144dff0cbeb"
   },
   "source": [
    "#### Continue to incorporate other text features from the title or summary that you believe will predict the salary and examine their coefficients"
   ]
  },
  {
   "cell_type": "markdown",
   "metadata": {
    "focus": false,
    "id": "12d5edeb-a272-43a0-9977-d951f12fedfb"
   },
   "source": [
    "#### Take ~100 scraped entries with salaries. Convert them to use with your model and predict the salary - which entries have the highest predicted salaries?"
   ]
  },
  {
   "cell_type": "markdown",
   "metadata": {
    "focus": false,
    "id": "3be94357-e551-4094-b784-2df039216d33"
   },
   "source": [
    "### BONUS "
   ]
  },
  {
   "cell_type": "markdown",
   "metadata": {
    "focus": false,
    "id": "db045898-1d2d-4af2-8e79-437c4c7546b4"
   },
   "source": [
    "#### Bonus: Use Count Vectorizer from scikit-learn to create features from the text summaries. \n",
    "- Examine using count or binary features in the model\n",
    "- Re-evaluate the logistic regression model using these. Does this improve the model performance? \n",
    "- What text features are the most valuable? "
   ]
  },
  {
   "cell_type": "code",
   "execution_count": 23,
   "metadata": {
    "collapsed": false,
    "focus": false,
    "id": "4239e458-28bd-4675-8db3-c1d9c02b9854"
   },
   "outputs": [],
   "source": [
    "## YOUR CODE HERE"
   ]
  },
  {
   "cell_type": "code",
   "execution_count": 24,
   "metadata": {
    "collapsed": false,
    "focus": false,
    "id": "fec80936-37bc-4922-89bd-b5d615566c9c"
   },
   "outputs": [],
   "source": [
    "## YOUR CODE HERE"
   ]
  },
  {
   "cell_type": "markdown",
   "metadata": {
    "focus": false,
    "id": "d42b9fd8-39d5-416a-b40b-7410e6396c11"
   },
   "source": [
    "#### Re-test L1 and L2 regularization. You can use LogisticRegressionCV to find the optimal reguarlization parameters. \n",
    "- Re-test what text features are most valuable.  \n",
    "- How do L1 and L2 change the coefficients?"
   ]
  },
  {
   "cell_type": "code",
   "execution_count": 25,
   "metadata": {
    "collapsed": false,
    "focus": false,
    "id": "7570e237-c8cc-4e26-b569-7aee10627e79"
   },
   "outputs": [],
   "source": [
    "## YOUR CODE HERE"
   ]
  },
  {
   "cell_type": "code",
   "execution_count": null,
   "metadata": {
    "collapsed": true,
    "focus": false,
    "id": "e3a0c83d-e3b8-4bed-b864-7e795b34a3d4"
   },
   "outputs": [],
   "source": []
  }
 ],
 "metadata": {
  "anaconda-cloud": {},
  "kernelspec": {
   "display_name": "Python [default]",
   "language": "python",
   "name": "python2"
  },
  "language_info": {
   "codemirror_mode": {
    "name": "ipython",
    "version": 2
   },
   "file_extension": ".py",
   "mimetype": "text/x-python",
   "name": "python",
   "nbconvert_exporter": "python",
   "pygments_lexer": "ipython2",
   "version": "2.7.12"
  }
 },
 "nbformat": 4,
 "nbformat_minor": 0
}
